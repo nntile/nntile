{
 "cells": [
  {
   "cell_type": "markdown",
   "id": "41aa6b77-ad06-43da-b6ae-62e2200ba5a7",
   "metadata": {},
   "source": [
    "### 1. Environment variable setting block:\n",
    "\n",
    "The following block is required to set environment variables that are read during the execution of the program code. \n",
    "\n",
    "User can change these environment variables between runs."
   ]
  },
  {
   "cell_type": "code",
   "execution_count": 2,
   "id": "9a7c9e3f-1c2f-44e3-a887-025863461efb",
   "metadata": {},
   "outputs": [],
   "source": [
    "# Preliminary setup of experimental environment\n",
    "import os\n",
    "from pathlib import Path\n",
    "import subprocess\n",
    "\n",
    "nntile_dir = Path.cwd() / \"..\"\n",
    "\n",
    "# Set environment variables\n",
    "os.environ[\"CUDA_VISIBLE_DEVICES\"] = \"1\" # Limit CUDA visibility\n",
    "os.environ[\"OMP_NUM_THREADS\"] = \"1\" # Disable BLAS parallelism\n",
    "os.environ[\"PYTHONPATH\"] = str(nntile_dir / \"build\" / \"wrappers\" / \"python\") # Path to a binary dir of NNTile Python wrappers\n",
    "\n",
    "# All StarPU environment variables are available at https://files.inria.fr/starpu/doc/html/ExecutionConfigurationThroughEnvironmentVariables.html\n",
    "os.environ[\"STARPU_NCPU\"] = \"1\" # Use only 1 CPU core\n",
    "os.environ[\"STARPU_NCUDA\"] = \"1\" # Use only 1 CUDA device\n",
    "os.environ[\"STARPU_SILENT\"] = \"1\" # Do not show lots of StarPU outputs\n",
    "os.environ[\"STARPU_SCHED\"] = \"dmdasd\" # Name StarPU scheduler to be used\n",
    "os.environ[\"STARPU_FXT_TRACE\"] = \"0\" # Do not generate FXT traces\n",
    "os.environ[\"STARPU_WORKERS_NOBIND\"] = \"1\" # Do not bind workers (it helps if several instances of StarPU run in parallel)\n",
    "os.environ[\"STARPU_PROFILING\"] = \"1\" # This enables logging performance of workers and bandwidth of memory nodes\n",
    "os.environ[\"STARPU_BUS_STATS\"] = \"1\" # This enables logging of bus usage, prined at the end of execution\n",
    "os.environ[\"STARPU_HOME\"] = str(Path.cwd() / \"starpu\") # Main directory in which StarPU stores its configuration files\n",
    "os.environ[\"STARPU_PERF_MODEL_DIR\"] = str(Path(os.environ[\"STARPU_HOME\"]) / \"sampling\") # Main directory in which StarPU stores its performance model files\n",
    "os.environ[\"STARPU_PERF_MODEL_HOMOGENEOUS_CPU\"] = \"1\" # Assume all CPU cores are equal\n",
    "os.environ[\"STARPU_PERF_MODEL_HOMOGENEOUS_CUDA\"] = \"1\" # Assume all CUDA devices are equal\n",
    "os.environ[\"STARPU_HOSTNAME\"] = \"GPT_Neo_LMHead_example\" # Force the hostname to be used when managing performance model files\n",
    "os.environ[\"STARPU_FXT_PREFIX\"] = str(Path(os.environ[\"STARPU_HOME\"]) / \"fxt\") # Directory to store FXT traces if enabled"
   ]
  },
  {
   "cell_type": "markdown",
   "id": "eda8db2a-d4e7-475a-bb96-b4ce77c282eb",
   "metadata": {},
   "source": [
    "### 2. Data Preparation Block: \n",
    "\n",
    "This block uses the interpreted file \"causal_lm_data_preparation.py\". This Python script supports the following arguments when run:\n",
    "- hf-dataset, (default=`\"roneneldan/TinyStories\"`): The name of the dataset to be processed and prepared for use in the training process. By default, the \"TinyStories\" dataset from the Huggingface infrastructure is specified,\n",
    "- dataset-path, (default=`\".data\"`): path to the directory where previously downloaded datasets from remote sources are saved, making it easy to access for the future use,\n",
    "- dataset-select, (`int`, default=`100`): specifies the number of records from the original dataset that fall into the training set,\n",
    "- hf-tokenizer, (`str`, default=`\"kimihailv/llama-1.3b\"`): specifies the repository from the Huggingface infrastructure used as a tokenizer,\n",
    "- tokenizer-path, (`str`, default=`\".model\"`): path to the directory where previously downloaded tokenizers are saved,\n",
    "- seq-len, (`int`, default=`1024`): length of the input token sequence for the training process,\n",
    "- batch-size, (`int`, default=`1`): batch size for the training process, then is the number of input data sentences between which the loss function optimizer step is called."
   ]
  },
  {
   "cell_type": "code",
   "execution_count": 2,
   "id": "b152f53e-78c7-4900-b8d1-72352189b448",
   "metadata": {},
   "outputs": [],
   "source": [
    "# Prepare TinyStories dataset into train.bin file\n",
    "!python ../wrappers/python/examples/causal_lm_data_preparation.py \\\n",
    "    --hf-tokenizer=\"EleutherAI/gpt-neo-1.3B\" --seq-len=256 --batch-size=256 --dataset-select=5000"
   ]
  },
  {
   "cell_type": "markdown",
   "id": "f43ef5ba-5d79-405b-bc9a-65985d93c458",
   "metadata": {},
   "source": [
    "### 3. Example Scenarios"
   ]
  },
  {
   "cell_type": "markdown",
   "id": "a88c7b5c-0e25-4da4-b171-0bfddf3f6ee3",
   "metadata": {},
   "source": [
    "Below we show an example of utilizing the GPT-Neo model, implemented using the NNTile framework. We explore the following scenarios:\n",
    "\n",
    "- **Training the model from a random initial state and saving it to a checkpoint.**\n",
    "- **Loading the model weights from a checkpoint and continuing training with a different data type.**\n",
    "- **Training the remote model downloaded from the Hugging Face infrastructure.**"
   ]
  },
  {
   "cell_type": "markdown",
   "id": "820da002-7c8a-4481-98b7-fa8dc4732b0a",
   "metadata": {},
   "source": [
    "For training and continuing retraining scenarios, the interpreted file \"gpt_neox_training.py\" is used. This Python script supports the following arguments when running:\n",
    "\n",
    "- remote_model_name, (`str`, default=`\"EleutherAI/gpt-neo-1.3B\"`): This parameter specifies the name of the GPT-2 based model that resides within the HuggingFace infrastructure and will be utilized to initialize the configuration and the intial state of the NNTile model.\n",
    "\n",
    "- pretrained, (choices=`[\"local\", \"remote\"]`, default=`\"local\"`): This flag indicates the location of the pretrained model, with the `local` option requiring a configuration path (`config-path`) to start training from a randomly initialized state unless the checkpoint (`checkpoint-path`) is provided, in which case training continues from the last saved checkpoint state.\n",
    "\n",
    "- checkpoint-path, (`str`, default=`\"\"`): This refers to the file path where a saved checkpoint can be found, allowing for the resumption of training from a specific point if available.\n",
    "\n",
    "- config-path, (`str`, default=`\"\"`): This denotes the path to the configuration .json file that must be provided in the current version if the `pretrained` parameter is set to `\"local\"`.\n",
    "\n",
    "- save-checkpoint-path, (`str`, default=`\".model\"`): This parameter specifies the directory path where intermediate checkpoints will be saved during the training process for future reference.\n",
    "\n",
    "- optimizer, (choices=`[\"sgd\", \"adam\", \"adamw\"]`, default=`\"adam\"`): This defines the type of optimizer that will be employed during the training process; the current version of NNTile supports three distinct optimization methods.\n",
    "\n",
    "- model-path, (`str`, default=`\".model\"`): This indicates the directory path where previously loaded remote models are stored, facilitating easy access for further use.\n",
    "\n",
    "- seq-len, (`int`, default=`1024`): length of the input token sequence for training.\n",
    "\n",
    "- seq-len-tile, (`int`, default=`1024`): split size of sequence length into tiles\n",
    "\n",
    "- batch-size, (`int`, default=`1`): batch size for the training process, which specifies the number of sentences processed by seq-len tokens between steps of the loss function optimizer.\n",
    "\n",
    "- minibatch-size, (`int`, default=`-1`): batch size for which memory is allocated during training. The entire batch is divided into whole minibatches. All minibatches from one batch are fed through the model one by one to accumulate parameter gradients.\n",
    "\n",
    "- minibatch-size-tile, (`int`, default=`-1`): batch size that goes to the CPU or GPU for calculations. Each minibatch must be divisible by an integer number of minibatch tiles.\n",
    "\n",
    "- hidden-size-tile, (`int`, default=`-1`): the size of the pieces (tiles) into which the \"hidden size\" dimension is divided (also known as \"embedding size\") – the size of the multidimensional space into which incoming tokens are mapped. Only \"piecewise\" tensors of size hidden-size-tile along the corresponding axis are processed on the CPU and GPU.\n",
    "\n",
    "- intermediate-size-tile, (`int`, default=`-1`): the size of the pieces (tiles) into which the \"intermediate size\" dimension is divided. Only \"piecewise\" tensors of size intermediate-size-tile along the corresponding axis are processed on the CPU and GPU.\n",
    "\n",
    "- n-head-tile, (`int`, default=`-1`): the size of the pieces (tiles) into which the number of heads of the transformer layer is divided. Only “piecewise” tensors with a size of n-head-tile along the corresponding axis are processed by the CPU and GPU.\n",
    "\n",
    "- dtype, (choices=`[\"fp32\", \"fp64\", \"tf32\", \"bf16\", \"fp32_fast_fp16\", \"fp32_fast_bf16\"]`, default=`\"fp32\"`): This parameter outlines the various data types supported by NNTile, allowing users the flexibility to choose based on their model requirements.\n",
    "\n",
    "- restrict, (choices=`[\"cpu\", \"cuda\", None]`, default=`None`): This option allows users to specify restrictions on the computational resources utilized during training; selecting `\"cpu\"` restricts training to CPU-only cores, `\"cuda\"` limits it to GPU cores, while setting it to None allows for training across all available cores.\n",
    "\n",
    "- use-redux, (action=`\"store_true\"`): a boolean flag that, when used in the argument string, allows for the computation of dependent tasks simultaneously, with the subsequent reduction of the results into a single tensor.\n",
    "\n",
    "- dataset-path, (default=`\".data\"`): path to the directory where previously prepared datasets are saved.\n",
    "\n",
    "- dataset-file, (default=`\"\"`): path (relative to dataset-path) to the .bin file that is created in the block of data preparation for training.\n",
    "\n",
    "- lr, (`float`, default=`1e-4`): step length for the optimization algorithm.\n",
    "\n",
    "- nepochs, (`int`, default=`1`): number of full passes through the training set.\n",
    "\n",
    "- logger, (action=`\"store_true\"`): a boolean flag that enables special logger thread, that forwards logs to a provided remote logger server\n",
    "\n",
    "- logger-server-addr, (default=`\"localhost\"`): remote logger server URL\n",
    "\n",
    "- logger-server-port, (`int`, default=`5001`): remote logger server port"
   ]
  },
  {
   "cell_type": "markdown",
   "id": "027fba23-7123-47dc-9781-13f7c17a912b",
   "metadata": {},
   "source": [
    "#### 3.1. Training from the random initial state and saving into checkpoint.\n",
    "\n",
    "This requires option `pretrained` set to `local` and `config-path` to point on previously created `.json` configuration file.\n",
    "\n",
    "In this example, we start training in the fp32 type."
   ]
  },
  {
   "cell_type": "code",
   "execution_count": 3,
   "id": "86bd4e10-4626-4140-a989-aced3dfac91d",
   "metadata": {},
   "outputs": [
    {
     "name": "stdout",
     "output_type": "stream",
     "text": [
      "2025-05-20 18:27:08.907238: E external/local_xla/xla/stream_executor/cuda/cuda_fft.cc:485] Unable to register cuFFT factory: Attempting to register factory for plugin cuFFT when one has already been registered\n",
      "2025-05-20 18:27:08.930352: E external/local_xla/xla/stream_executor/cuda/cuda_dnn.cc:8454] Unable to register cuDNN factory: Attempting to register factory for plugin cuDNN when one has already been registered\n",
      "2025-05-20 18:27:08.937401: E external/local_xla/xla/stream_executor/cuda/cuda_blas.cc:1452] Unable to register cuBLAS factory: Attempting to register factory for plugin cuBLAS when one has already been registered\n",
      "2025-05-20 18:27:08.954365: I tensorflow/core/platform/cpu_feature_guard.cc:210] This TensorFlow binary is optimized to use available CPU instructions in performance-critical operations.\n",
      "To enable the following instructions: AVX2 FMA, in other operations, rebuild TensorFlow with the appropriate compiler flags.\n",
      "2025-05-20 18:27:10.157836: W tensorflow/compiler/tf2tensorrt/utils/py_utils.cc:38] TF-TRT Warning: Could not find TensorRT\n",
      "Namespace(remote_model_name='EleutherAI/gpt-neo-1.3B', pretrained='local', checkpoint_path='', config_path='../wrappers/python/examples/gpt_neo_config.json', save_checkpoint_path='.model/nntile_checkpoint_neo.pt', optimizer='adam', model_path='.model', seq_len=256, seq_len_tile=-1, batch_size=256, minibatch_size=8, minibatch_size_tile=-1, hidden_size_tile=-1, intermediate_size_tile=-1, n_head_tile=-1, dtype='fp32', restrict=None, use_redux=False, dataset_path='.data', dataset_file='tinystories/train.bin', lr=0.0001, nepochs=1, logger=False, logger_server_addr='localhost', logger_server_port=5001)\n",
      "GPTNeoConfig {\n",
      "  \"_attn_implementation_autoset\": true,\n",
      "  \"activation_function\": \"gelu_new\",\n",
      "  \"architectures\": [\n",
      "    \"GPTNeoForCausalLM\"\n",
      "  ],\n",
      "  \"attention_dropout\": 0.0,\n",
      "  \"attention_layers\": [\n",
      "    \"global\",\n",
      "    \"local\",\n",
      "    \"global\",\n",
      "    \"local\",\n",
      "    \"global\",\n",
      "    \"local\",\n",
      "    \"global\",\n",
      "    \"local\",\n",
      "    \"global\",\n",
      "    \"local\",\n",
      "    \"global\",\n",
      "    \"local\"\n",
      "  ],\n",
      "  \"attention_types\": [\n",
      "    [\n",
      "      [\n",
      "        \"global\",\n",
      "        \"local\"\n",
      "      ],\n",
      "      6\n",
      "    ]\n",
      "  ],\n",
      "  \"bos_token_id\": 50256,\n",
      "  \"classifier_dropout\": 0.1,\n",
      "  \"embed_dropout\": 0.0,\n",
      "  \"eos_token_id\": 50256,\n",
      "  \"hidden_dropout\": 0.0,\n",
      "  \"hidden_size\": 1024,\n",
      "  \"initializer_range\": 0.02,\n",
      "  \"intermediate_size\": 4096,\n",
      "  \"layer_norm_epsilon\": 1e-05,\n",
      "  \"max_position_embeddings\": 2048,\n",
      "  \"model_type\": \"gpt_neo\",\n",
      "  \"num_heads\": 16,\n",
      "  \"num_layers\": 12,\n",
      "  \"resid_dropout\": 0.0,\n",
      "  \"transformers_version\": \"4.51.3\",\n",
      "  \"use_cache\": false,\n",
      "  \"vocab_size\": 50257,\n",
      "  \"window_size\": 256\n",
      "}\n",
      "\n",
      "StarPU + NNTile + MPI init in 0.5019655227661133 seconds\n",
      "GPTNeoConfig(vocab_size=50257, vocab_embed_dim_tile=1024, hidden_size=1024, hidden_size_tile=1024, intermediate_size=4096, intermediate_size_tile=4096, num_heads=16, num_heads_tile=16, attention_types=[[['global', 'local'], 6]], activation_function='gelutanh', dtype='fp32', flash_attention=False, layer_norm_epsilon=1e-05, max_position_embeddings=2048, num_hidden_layers=12, local_attn=True, redux=False, bos_token_id=50256, eos_token_id=50256, name='gpt-neo', window_size=256)\n",
      "Converting PyTorch model to NNTile requires 2.368119478225708 seconds\n",
      "train_labels:  (3840, 256)\n",
      "train_labels:  50255\n",
      "From PyTorch loader to NNTile batches in 0.05810093879699707 seconds\n",
      "Params+grads (GB): 1.908\n",
      "Activations  (GB): 3.441\n",
      "Optimizer    (GB): 1.908\n",
      "Persistent   (GB): 7.258\n",
      "Temporaries  (GB): 2.646\n",
      "Batch=1/15 Epoch=1/1 Loss=11.047819137573242\n",
      "Batch=2/15 Epoch=1/1 Loss=9.644898414611816\n",
      "Batch=3/15 Epoch=1/1 Loss=9.082423210144043\n",
      "Batch=4/15 Epoch=1/1 Loss=8.79194164276123\n",
      "Batch=5/15 Epoch=1/1 Loss=8.631027221679688\n",
      "Batch=6/15 Epoch=1/1 Loss=8.562804222106934\n",
      "Batch=7/15 Epoch=1/1 Loss=8.387025833129883\n",
      "Batch=8/15 Epoch=1/1 Loss=8.212807655334473\n",
      "Batch=9/15 Epoch=1/1 Loss=8.17237377166748\n",
      "Batch=10/15 Epoch=1/1 Loss=8.010456085205078\n",
      "Batch=11/15 Epoch=1/1 Loss=7.833827018737793\n",
      "Batch=12/15 Epoch=1/1 Loss=7.7490339279174805\n",
      "Batch=13/15 Epoch=1/1 Loss=7.635578632354736\n",
      "Batch=14/15 Epoch=1/1 Loss=7.51442813873291\n",
      "Batch=15/15 Epoch=1/1 Loss=7.3942084312438965\n",
      "NNTile training time: 128.32393431663513 seconds\n",
      "NNTile training throughput samples/sec: 29.92426954838312\n",
      "NNTile performance (model flops): 6.992291810578023 Tflops/s\n",
      "NNTile loss on the last batch: 7.3942084312438965\n",
      "\n",
      "#---------------------\n",
      "Data transfer stats:\n",
      "\tNUMA 0 -> CUDA 0\t46.7022 GB\t332.5102 MB/s\t(transfers : 10245 - avg 4.6679 MB)\n",
      "\tCUDA 0 -> NUMA 0\t1.7109 GB\t12.1812 MB/s\t(transfers : 1730 - avg 1.0127 MB)\n",
      "Total transfers: 48.4131 GB\n",
      "#---------------------\n"
     ]
    }
   ],
   "source": [
    "# Launch an external python process to train gpt_neo model on TinyStories\n",
    "!python ../wrappers/python/examples/gpt_neo_training.py \\\n",
    "    --pretrained=local --config-path=\"../wrappers/python/examples/gpt_neo_config.json\" \\\n",
    "    --save-checkpoint-path=\".model/nntile_checkpoint_neo.pt\" --optimizer=\"adam\" --seq-len=256 --lr=1e-4 --dtype=fp32 --nepochs=1 \\\n",
    "    --batch-size=256 --minibatch-size=8 --dataset-file=\"tinystories/train.bin\""
   ]
  },
  {
   "cell_type": "markdown",
   "id": "7e26a9db-4d52-439f-8d08-10673510567a",
   "metadata": {},
   "source": [
    "#### 3.2. Resume training from the local checkpoint.\n",
    "\n",
    "This requires option `pretrained` again to be set to `local`, `config-path` to point on previously created `.json` configuration file, and also `checkpoint-path` to point on the pre-existing checkpoint file in the PyTorch format.\n",
    "\n",
    "Training process can be resumed using a different data type and on a different set of compute nodes. For example, here we switch to the TF32 type (synonymous with the fp32_fast_tf32 type) and restrict to using only GPUs."
   ]
  },
  {
   "cell_type": "code",
   "execution_count": 6,
   "id": "90c5b0d0-9f03-47ac-90be-5eb43c4a5210",
   "metadata": {},
   "outputs": [
    {
     "name": "stdout",
     "output_type": "stream",
     "text": [
      "2025-05-20 18:32:46.794322: E external/local_xla/xla/stream_executor/cuda/cuda_fft.cc:485] Unable to register cuFFT factory: Attempting to register factory for plugin cuFFT when one has already been registered\n",
      "2025-05-20 18:32:46.812955: E external/local_xla/xla/stream_executor/cuda/cuda_dnn.cc:8454] Unable to register cuDNN factory: Attempting to register factory for plugin cuDNN when one has already been registered\n",
      "2025-05-20 18:32:46.818462: E external/local_xla/xla/stream_executor/cuda/cuda_blas.cc:1452] Unable to register cuBLAS factory: Attempting to register factory for plugin cuBLAS when one has already been registered\n",
      "2025-05-20 18:32:46.833994: I tensorflow/core/platform/cpu_feature_guard.cc:210] This TensorFlow binary is optimized to use available CPU instructions in performance-critical operations.\n",
      "To enable the following instructions: AVX2 FMA, in other operations, rebuild TensorFlow with the appropriate compiler flags.\n",
      "2025-05-20 18:32:48.065512: W tensorflow/compiler/tf2tensorrt/utils/py_utils.cc:38] TF-TRT Warning: Could not find TensorRT\n",
      "Namespace(remote_model_name='EleutherAI/gpt-neo-1.3B', pretrained='local', checkpoint_path='.model/nntile_checkpoint_neo.pt', config_path='../wrappers/python/examples/gpt_neo_config.json', save_checkpoint_path='.model/nntile_further_checkpoint.pt', optimizer='adam', model_path='.model', seq_len=256, seq_len_tile=-1, batch_size=256, minibatch_size=8, minibatch_size_tile=-1, hidden_size_tile=-1, intermediate_size_tile=-1, n_head_tile=-1, dtype='tf32', restrict='cuda', use_redux=False, dataset_path='.data', dataset_file='tinystories/train.bin', lr=0.0001, nepochs=1, logger=False, logger_server_addr='localhost', logger_server_port=5001)\n",
      "GPTNeoConfig {\n",
      "  \"_attn_implementation_autoset\": true,\n",
      "  \"activation_function\": \"gelu_new\",\n",
      "  \"architectures\": [\n",
      "    \"GPTNeoForCausalLM\"\n",
      "  ],\n",
      "  \"attention_dropout\": 0.0,\n",
      "  \"attention_layers\": [\n",
      "    \"global\",\n",
      "    \"local\",\n",
      "    \"global\",\n",
      "    \"local\",\n",
      "    \"global\",\n",
      "    \"local\",\n",
      "    \"global\",\n",
      "    \"local\",\n",
      "    \"global\",\n",
      "    \"local\",\n",
      "    \"global\",\n",
      "    \"local\"\n",
      "  ],\n",
      "  \"attention_types\": [\n",
      "    [\n",
      "      [\n",
      "        \"global\",\n",
      "        \"local\"\n",
      "      ],\n",
      "      6\n",
      "    ]\n",
      "  ],\n",
      "  \"bos_token_id\": 50256,\n",
      "  \"classifier_dropout\": 0.1,\n",
      "  \"embed_dropout\": 0.0,\n",
      "  \"eos_token_id\": 50256,\n",
      "  \"hidden_dropout\": 0.0,\n",
      "  \"hidden_size\": 1024,\n",
      "  \"initializer_range\": 0.02,\n",
      "  \"intermediate_size\": 4096,\n",
      "  \"layer_norm_epsilon\": 1e-05,\n",
      "  \"max_position_embeddings\": 2048,\n",
      "  \"model_type\": \"gpt_neo\",\n",
      "  \"num_heads\": 16,\n",
      "  \"num_layers\": 12,\n",
      "  \"resid_dropout\": 0.0,\n",
      "  \"transformers_version\": \"4.51.3\",\n",
      "  \"use_cache\": false,\n",
      "  \"vocab_size\": 50257,\n",
      "  \"window_size\": 256\n",
      "}\n",
      "\n",
      "StarPU + NNTile + MPI init in 0.7426438331604004 seconds\n",
      "GPTNeoConfig(vocab_size=50257, vocab_embed_dim_tile=1024, hidden_size=1024, hidden_size_tile=1024, intermediate_size=4096, intermediate_size_tile=4096, num_heads=16, num_heads_tile=16, attention_types=[[['global', 'local'], 6]], activation_function='gelutanh', dtype='tf32', flash_attention=False, layer_norm_epsilon=1e-05, max_position_embeddings=2048, num_hidden_layers=12, local_attn=True, redux=False, bos_token_id=50256, eos_token_id=50256, name='gpt-neo', window_size=256)\n",
      "Converting PyTorch model to NNTile requires 1.7694141864776611 seconds\n",
      "train_labels:  (3840, 256)\n",
      "train_labels:  50255\n",
      "From PyTorch loader to NNTile batches in 0.06908226013183594 seconds\n",
      "Params+grads (GB): 1.908\n",
      "Activations  (GB): 3.441\n",
      "Optimizer    (GB): 1.908\n",
      "Persistent   (GB): 7.258\n",
      "Temporaries  (GB): 2.646\n",
      "Batch=1/15 Epoch=1/1 Loss=7.263224124908447\n",
      "Batch=2/15 Epoch=1/1 Loss=7.271119594573975\n",
      "Batch=3/15 Epoch=1/1 Loss=7.063405513763428\n",
      "Batch=4/15 Epoch=1/1 Loss=6.8915629386901855\n",
      "Batch=5/15 Epoch=1/1 Loss=6.745474815368652\n",
      "Batch=6/15 Epoch=1/1 Loss=6.722849369049072\n",
      "Batch=7/15 Epoch=1/1 Loss=6.605259418487549\n",
      "Batch=8/15 Epoch=1/1 Loss=6.443364143371582\n",
      "Batch=9/15 Epoch=1/1 Loss=6.447731971740723\n",
      "Batch=10/15 Epoch=1/1 Loss=6.340639114379883\n",
      "Batch=11/15 Epoch=1/1 Loss=6.242251873016357\n",
      "Batch=12/15 Epoch=1/1 Loss=6.202706813812256\n",
      "Batch=13/15 Epoch=1/1 Loss=6.134580612182617\n",
      "Batch=14/15 Epoch=1/1 Loss=6.112122535705566\n",
      "Batch=15/15 Epoch=1/1 Loss=6.031774520874023\n",
      "NNTile training time: 122.77616548538208 seconds\n",
      "NNTile training throughput samples/sec: 31.27642881514488\n",
      "NNTile performance (model flops): 7.308245794092595 Tflops/s\n",
      "NNTile loss on the last batch: 6.031774520874023\n",
      "\n",
      "#---------------------\n",
      "Data transfer stats:\n",
      "\tNUMA 0 -> CUDA 0\t0.0000 GB\t0.0000 MB/s\t(transfers : 0 - avg -nan MB)\n",
      "\tCUDA 0 -> NUMA 0\t0.9542 GB\t7.0651 MB/s\t(transfers : 176 - avg 5.5518 MB)\n",
      "Total transfers: 0.9542 GB\n",
      "#---------------------\n"
     ]
    }
   ],
   "source": [
    "# Launch an external python process to finetune a pretrained NNTile gpt_neo model on TinyStories\n",
    "!python ../wrappers/python/examples/gpt_neo_training.py \\\n",
    "    --restrict=\"cuda\" --pretrained=local --checkpoint-path=\".model/nntile_checkpoint_neo.pt\" \\\n",
    "    --config-path=\"../wrappers/python/examples/gpt_neo_config.json\" \\\n",
    "    --save-checkpoint-path=\".model/nntile_further_checkpoint.pt\" --optimizer=\"adam\" --seq-len=256 --lr=1e-4 --dtype=tf32 \\\n",
    "    --restrict=\"cuda\" --nepochs=1 --batch-size=256 --minibatch-size=8 --dataset-file=\"tinystories/train.bin\""
   ]
  },
  {
   "cell_type": "markdown",
   "id": "16d0edc3-6d79-49bc-af3b-6aee0a5735de",
   "metadata": {},
   "source": [
    "#### 3.3. Training from remote and saving into checkpoint.\n",
    "\n",
    "Our framework currently supports the continuation of model training obtained from a remote source, as we show here with the Hugging Face library. The weights from the loaded model are transferred into the model implemented in NNTile. Consequently, training can be further advanced using any data type and across any set of computing nodes that accommodate the selected data type.\n",
    "\n",
    "This requires option `pretrained` to be set to `remote`. Options `config-path` and `checkpoint-path` are no longer needed since model config is obtained from the remote model as well as layers' weights. Training can be resumed using any data type and on any set of compute nodes that support the selected data type. In the example below, we switch to the tf32 type here."
   ]
  },
  {
   "cell_type": "code",
   "execution_count": 5,
   "id": "f3ad38c0-560f-40f1-ab59-e3f59207a2df",
   "metadata": {},
   "outputs": [
    {
     "name": "stdout",
     "output_type": "stream",
     "text": [
      "2025-05-20 18:37:57.277349: E external/local_xla/xla/stream_executor/cuda/cuda_fft.cc:485] Unable to register cuFFT factory: Attempting to register factory for plugin cuFFT when one has already been registered\n",
      "2025-05-20 18:37:57.302230: E external/local_xla/xla/stream_executor/cuda/cuda_dnn.cc:8454] Unable to register cuDNN factory: Attempting to register factory for plugin cuDNN when one has already been registered\n",
      "2025-05-20 18:37:57.307937: E external/local_xla/xla/stream_executor/cuda/cuda_blas.cc:1452] Unable to register cuBLAS factory: Attempting to register factory for plugin cuBLAS when one has already been registered\n",
      "2025-05-20 18:37:57.324274: I tensorflow/core/platform/cpu_feature_guard.cc:210] This TensorFlow binary is optimized to use available CPU instructions in performance-critical operations.\n",
      "To enable the following instructions: AVX2 FMA, in other operations, rebuild TensorFlow with the appropriate compiler flags.\n",
      "2025-05-20 18:37:58.536272: W tensorflow/compiler/tf2tensorrt/utils/py_utils.cc:38] TF-TRT Warning: Could not find TensorRT\n",
      "Namespace(remote_model_name='EleutherAI/gpt-neo-1.3B', pretrained='remote', checkpoint_path='', config_path='', save_checkpoint_path='.model/nntile_remote_checkpoint.pt', optimizer='adam', model_path='.model', seq_len=256, seq_len_tile=-1, batch_size=256, minibatch_size=8, minibatch_size_tile=-1, hidden_size_tile=-1, intermediate_size_tile=-1, n_head_tile=-1, dtype='tf32', restrict='cuda', use_redux=False, dataset_path='.data', dataset_file='tinystories/train.bin', lr=0.0001, nepochs=1, logger=False, logger_server_addr='localhost', logger_server_port=5001)\n",
      "Xet Storage is enabled for this repo, but the 'hf_xet' package is not installed. Falling back to regular HTTP download. For better performance, install the package with: `pip install huggingface_hub[hf_xet]` or `pip install hf_xet`\n",
      "model.safetensors: 100%|███████████████████| 5.31G/5.31G [01:45<00:00, 50.6MB/s]\n",
      "GPTNeoConfig {\n",
      "  \"_attn_implementation_autoset\": true,\n",
      "  \"activation_function\": \"gelu_new\",\n",
      "  \"architectures\": [\n",
      "    \"GPTNeoForCausalLM\"\n",
      "  ],\n",
      "  \"attention_dropout\": 0,\n",
      "  \"attention_layers\": [\n",
      "    \"global\",\n",
      "    \"local\",\n",
      "    \"global\",\n",
      "    \"local\",\n",
      "    \"global\",\n",
      "    \"local\",\n",
      "    \"global\",\n",
      "    \"local\",\n",
      "    \"global\",\n",
      "    \"local\",\n",
      "    \"global\",\n",
      "    \"local\",\n",
      "    \"global\",\n",
      "    \"local\",\n",
      "    \"global\",\n",
      "    \"local\",\n",
      "    \"global\",\n",
      "    \"local\",\n",
      "    \"global\",\n",
      "    \"local\",\n",
      "    \"global\",\n",
      "    \"local\",\n",
      "    \"global\",\n",
      "    \"local\"\n",
      "  ],\n",
      "  \"attention_types\": [\n",
      "    [\n",
      "      [\n",
      "        \"global\",\n",
      "        \"local\"\n",
      "      ],\n",
      "      12\n",
      "    ]\n",
      "  ],\n",
      "  \"bos_token_id\": 50256,\n",
      "  \"classifier_dropout\": 0.1,\n",
      "  \"embed_dropout\": 0,\n",
      "  \"eos_token_id\": 50256,\n",
      "  \"gradient_checkpointing\": false,\n",
      "  \"hidden_size\": 2048,\n",
      "  \"initializer_range\": 0.02,\n",
      "  \"intermediate_size\": null,\n",
      "  \"layer_norm_epsilon\": 1e-05,\n",
      "  \"max_position_embeddings\": 2048,\n",
      "  \"model_type\": \"gpt_neo\",\n",
      "  \"num_heads\": 16,\n",
      "  \"num_layers\": 24,\n",
      "  \"resid_dropout\": 0,\n",
      "  \"summary_activation\": null,\n",
      "  \"summary_first_dropout\": 0.1,\n",
      "  \"summary_proj_to_labels\": true,\n",
      "  \"summary_type\": \"cls_index\",\n",
      "  \"summary_use_proj\": true,\n",
      "  \"task_specific_params\": {\n",
      "    \"text-generation\": {\n",
      "      \"do_sample\": true,\n",
      "      \"max_length\": 50,\n",
      "      \"temperature\": 0.9\n",
      "    }\n",
      "  },\n",
      "  \"tokenizer_class\": \"GPT2Tokenizer\",\n",
      "  \"torch_dtype\": \"float32\",\n",
      "  \"transformers_version\": \"4.51.3\",\n",
      "  \"use_cache\": true,\n",
      "  \"vocab_size\": 50257,\n",
      "  \"window_size\": 256\n",
      "}\n",
      "\n",
      "StarPU + NNTile + MPI init in 0.593529462814331 seconds\n",
      "GPTNeoConfig(vocab_size=50257, vocab_embed_dim_tile=2048, hidden_size=2048, hidden_size_tile=2048, intermediate_size=8192, intermediate_size_tile=8192, num_heads=16, num_heads_tile=16, attention_types=[[['global', 'local'], 12]], activation_function='gelutanh', dtype='tf32', flash_attention=False, layer_norm_epsilon=1e-05, max_position_embeddings=2048, num_hidden_layers=24, local_attn=True, redux=False, bos_token_id=50256, eos_token_id=50256, name='gpt-neo', window_size=256)\n",
      "Converting PyTorch model to NNTile requires 9.457601308822632 seconds\n",
      "train_labels:  (3840, 256)\n",
      "train_labels:  50255\n",
      "From PyTorch loader to NNTile batches in 0.06900930404663086 seconds\n",
      "Params+grads (GB): 10.569\n",
      "Activations  (GB): 11.365\n",
      "Optimizer    (GB): 10.569\n",
      "Persistent   (GB): 32.502\n",
      "Temporaries  (GB): 9.042\n",
      "Batch=1/15 Epoch=1/1 Loss=2.1414945125579834\n",
      "Batch=2/15 Epoch=1/1 Loss=2.6269919872283936\n",
      "Batch=3/15 Epoch=1/1 Loss=1.9375156164169312\n",
      "Batch=4/15 Epoch=1/1 Loss=1.9005755186080933\n",
      "Batch=5/15 Epoch=1/1 Loss=2.019150972366333\n",
      "Batch=6/15 Epoch=1/1 Loss=2.0384323596954346\n",
      "Batch=7/15 Epoch=1/1 Loss=1.9125173091888428\n",
      "Batch=8/15 Epoch=1/1 Loss=1.7529234886169434\n",
      "Batch=9/15 Epoch=1/1 Loss=1.7673176527023315\n",
      "Batch=10/15 Epoch=1/1 Loss=1.7438842058181763\n",
      "Batch=11/15 Epoch=1/1 Loss=1.9832701683044434\n",
      "Batch=12/15 Epoch=1/1 Loss=1.929250955581665\n",
      "Batch=13/15 Epoch=1/1 Loss=1.7584301233291626\n",
      "Batch=14/15 Epoch=1/1 Loss=1.81425940990448\n",
      "Batch=15/15 Epoch=1/1 Loss=1.7561742067337036\n",
      "NNTile training time: 1951.1555616855621 seconds\n",
      "NNTile training throughput samples/sec: 1.9680645025979913\n",
      "NNTile performance (model flops): 2.7455393968757584 Tflops/s\n",
      "NNTile loss on the last batch: 1.7561742067337036\n",
      "\n",
      "#---------------------\n",
      "Data transfer stats:\n",
      "\tNUMA 0 -> CUDA 0\t7788.4712 GB\t3894.9108 MB/s\t(transfers : 401057 - avg 19.8859 MB)\n",
      "\tCUDA 0 -> NUMA 0\t5032.6519 GB\t2516.7621 MB/s\t(transfers : 256367 - avg 20.1018 MB)\n",
      "Total transfers: 12821.1230 GB\n",
      "#---------------------\n"
     ]
    }
   ],
   "source": [
    "# Launch an external python process to finetune a downloaded from remote source pretrained gpt_neo model on TinyStories\n",
    "!python ../wrappers/python/examples/gpt_neo_training.py \\\n",
    "    --restrict=\"cuda\" --pretrained=remote --save-checkpoint-path=\".model/nntile_remote_checkpoint.pt\"\\\n",
    "    --optimizer=\"adam\" --seq-len=256 --lr=1e-4 --dtype=tf32 --nepochs=1 --batch-size=256 --minibatch-size=8 \\\n",
    "    --dataset-file=\"tinystories/train.bin\""
   ]
  },
  {
   "cell_type": "markdown",
   "id": "08f62c7b-e027-427b-937a-2eeca86441d2",
   "metadata": {},
   "source": [
    "### 4. Inference process.\n",
    "\n",
    "In the current version of the GPT-Neo scenario, the NNTile framework model is created from a (pre-)loaded pre-trained GPT-Neo model from the Huggingface library. The model layer weights are passed to the corresponding NNTile model layers, and then the inference process is performed solely by NNTile, without any involvement of third-party models and mechanisms. To perform the inference, we use another program file - \"gpt_neo_generate.py\". The program code supports the following arguments when running:\n",
    "\n",
    "- cache_dir, (`str`, default=\"cache_hf\"): path to the directory where previously loaded models from a remote source are saved,\n",
    "- max-seq-len, (`int`, default=1024): maximum length of the input token sequence,\n",
    "- remote_model_name, (`str`, default=`\"EleutherAI/gpt-neo-1.3B\"`): This parameter specifies the name of the GPT-2 based model that resides within the HuggingFace infrastructure and will be utilized to initialize the configuration and the intial state of the NNTile model.\n",
    "- restrict, (choices=`[\"cpu\", \"cuda\", None]`, default=`None`): limit on the computing resources used during inference; `\"cpu\"` restricts inference to CPU cores only, `\"cuda\"` - to GPU cores only, while None allows using all available cores,\n",
    "- prompt, (`str`, default=`\"What do you think about dogs?\"`): input query, a string fed to the model input to perform inference based on it,\n",
    "- generation-mode, (choices = `[\"Greedy\", \"TopK\", \"TopP\"]`, default=`\"Greedy\"`): token generation mode in the GenerationMode class object (described in the \"llm_params.py\" file),\n",
    "- parallel-sampling-mode, (choices=`[\"BeamSearch\", \"Parallel\"]`, default=`\"BeamSearch\"`): parallel generation mode for multiple responses to a single query in the ParallelSamplingMode class object (described in the \"llm_params.py\" file),\n",
    "- max-tokens, (`int`, default=`100`): maximum number of generated tokens, including user request tokens,\n",
    "- use-cache, (action=`\"store_true\"`): boolean flag, when used in the argument line, enables the use of KV caches, allowing to reuse previously calculated values,\n",
    "- top-k, (`int`, default=`None`): probabilistic selection based on the top-k most probable tokens,\n",
    "- top-p-thr, (`float`, default=`None`): probabilistic selection based on tokens whose probability is not lower than the top-p-thr threshold,\n",
    "- temperature, (`float`, default=`1.0`): \"temperature\" parameter for token generation,\n",
    "- num-beams, (`int`, default=`1`): number of beams for parallel generation mode."
   ]
  },
  {
   "cell_type": "markdown",
   "id": "1a4e45ec-f59a-4fc2-8098-e6384d9ace63",
   "metadata": {},
   "source": [
    "#### 4.1. Examples with different types of generation strategies"
   ]
  },
  {
   "cell_type": "markdown",
   "id": "ec7a3cd8-c56c-4f3c-971d-867d1d8e8040",
   "metadata": {},
   "source": [
    "`BeamSearch` generation strategy and number of beams set to the default value of `1`."
   ]
  },
  {
   "cell_type": "code",
   "execution_count": 3,
   "id": "5b43ba82-4df1-4f9b-8ec7-c56e7e8f5eb8",
   "metadata": {},
   "outputs": [
    {
     "name": "stdout",
     "output_type": "stream",
     "text": [
      "2025-07-02 13:48:47.659863: E external/local_xla/xla/stream_executor/cuda/cuda_fft.cc:485] Unable to register cuFFT factory: Attempting to register factory for plugin cuFFT when one has already been registered\n",
      "2025-07-02 13:48:47.676606: E external/local_xla/xla/stream_executor/cuda/cuda_dnn.cc:8454] Unable to register cuDNN factory: Attempting to register factory for plugin cuDNN when one has already been registered\n",
      "2025-07-02 13:48:47.681677: E external/local_xla/xla/stream_executor/cuda/cuda_blas.cc:1452] Unable to register cuBLAS factory: Attempting to register factory for plugin cuBLAS when one has already been registered\n",
      "2025-07-02 13:48:47.697599: I tensorflow/core/platform/cpu_feature_guard.cc:210] This TensorFlow binary is optimized to use available CPU instructions in performance-critical operations.\n",
      "To enable the following instructions: AVX2 FMA, in other operations, rebuild TensorFlow with the appropriate compiler flags.\n",
      "2025-07-02 13:48:48.782465: W tensorflow/compiler/tf2tensorrt/utils/py_utils.cc:38] TF-TRT Warning: Could not find TensorRT\n",
      "Notice:\n",
      " None\n",
      "Why does the Sun shine?\n",
      "\n",
      "The Sun is the brightest star in the night sky. It\n",
      "\n",
      "#---------------------\n",
      "Data transfer stats:\n",
      "\tNUMA 0 -> CUDA 0\t5.2902 GB\t356.5179 MB/s\t(transfers : 372 - avg 14.5623 MB)\n",
      "\tCUDA 0 -> NUMA 0\t0.0036 GB\t0.2397 MB/s\t(transfers : 16 - avg 0.2277 MB)\n",
      "Total transfers: 5.2938 GB\n",
      "#---------------------\n"
     ]
    }
   ],
   "source": [
    "!python ../wrappers/python/examples/gpt_neo_generate.py --cache_dir=.model --max-seq-len=512 \\\n",
    "    --restrict=cuda --use-cache \\\n",
    "    --prompt=\"Why does the Sun shine?\" \\\n",
    "    --max-tokens=20"
   ]
  },
  {
   "cell_type": "markdown",
   "id": "c7416951-8a17-4fee-9b7a-574bd633a172",
   "metadata": {},
   "source": [
    "`Parallel` generation strategy and number of beams set to `3`."
   ]
  },
  {
   "cell_type": "code",
   "execution_count": 4,
   "id": "c00797ff-4fe4-4a5d-9973-285f6329beac",
   "metadata": {},
   "outputs": [
    {
     "name": "stdout",
     "output_type": "stream",
     "text": [
      "2025-07-02 13:49:57.326311: E external/local_xla/xla/stream_executor/cuda/cuda_fft.cc:485] Unable to register cuFFT factory: Attempting to register factory for plugin cuFFT when one has already been registered\n",
      "2025-07-02 13:49:57.343740: E external/local_xla/xla/stream_executor/cuda/cuda_dnn.cc:8454] Unable to register cuDNN factory: Attempting to register factory for plugin cuDNN when one has already been registered\n",
      "2025-07-02 13:49:57.348791: E external/local_xla/xla/stream_executor/cuda/cuda_blas.cc:1452] Unable to register cuBLAS factory: Attempting to register factory for plugin cuBLAS when one has already been registered\n",
      "2025-07-02 13:49:57.362231: I tensorflow/core/platform/cpu_feature_guard.cc:210] This TensorFlow binary is optimized to use available CPU instructions in performance-critical operations.\n",
      "To enable the following instructions: AVX2 FMA, in other operations, rebuild TensorFlow with the appropriate compiler flags.\n",
      "2025-07-02 13:49:58.456922: W tensorflow/compiler/tf2tensorrt/utils/py_utils.cc:38] TF-TRT Warning: Could not find TensorRT\n",
      "Notice:\n",
      " None\n",
      "['Why does the Sun shine? It’s because the Sun is a star.\\n\\nThe', 'Why does the Sun shine?\\n\\nThe Sun is the brightest star in the night sky. It', 'Why does the Sun shine? The Sun is a star, and stars are made of hydrogen and helium']\n",
      "\n",
      "#---------------------\n",
      "Data transfer stats:\n",
      "\tNUMA 0 -> CUDA 0\t5.2902 GB\t331.1372 MB/s\t(transfers : 423 - avg 12.8065 MB)\n",
      "\tCUDA 0 -> NUMA 0\t0.0084 GB\t0.5274 MB/s\t(transfers : 42 - avg 0.2054 MB)\n",
      "Total transfers: 5.2986 GB\n",
      "#---------------------\n"
     ]
    }
   ],
   "source": [
    "!python ../wrappers/python/examples/gpt_neo_generate.py --cache_dir=.model --max-seq-len=512 \\\n",
    "    --restrict=cuda --use-cache \\\n",
    "    --num-beams=3 --parallel-sampling-mode=Parallel \\\n",
    "    --prompt=\"Why does the Sun shine?\" \\\n",
    "    --max-tokens=20"
   ]
  },
  {
   "cell_type": "markdown",
   "id": "21af7236-e9da-4fa5-b1d9-538b2e8ab3ce",
   "metadata": {},
   "source": [
    "`BeamSearch` generation strategy and number of beams set to `3`."
   ]
  },
  {
   "cell_type": "code",
   "execution_count": 5,
   "id": "d7eb458f-ef6e-49fb-8b8e-fffec8df8a8e",
   "metadata": {},
   "outputs": [
    {
     "name": "stdout",
     "output_type": "stream",
     "text": [
      "2025-07-02 13:50:21.031935: E external/local_xla/xla/stream_executor/cuda/cuda_fft.cc:485] Unable to register cuFFT factory: Attempting to register factory for plugin cuFFT when one has already been registered\n",
      "2025-07-02 13:50:21.049627: E external/local_xla/xla/stream_executor/cuda/cuda_dnn.cc:8454] Unable to register cuDNN factory: Attempting to register factory for plugin cuDNN when one has already been registered\n",
      "2025-07-02 13:50:21.055277: E external/local_xla/xla/stream_executor/cuda/cuda_blas.cc:1452] Unable to register cuBLAS factory: Attempting to register factory for plugin cuBLAS when one has already been registered\n",
      "2025-07-02 13:50:21.070595: I tensorflow/core/platform/cpu_feature_guard.cc:210] This TensorFlow binary is optimized to use available CPU instructions in performance-critical operations.\n",
      "To enable the following instructions: AVX2 FMA, in other operations, rebuild TensorFlow with the appropriate compiler flags.\n",
      "2025-07-02 13:50:22.225580: W tensorflow/compiler/tf2tensorrt/utils/py_utils.cc:38] TF-TRT Warning: Could not find TensorRT\n",
      "Notice:\n",
      " None\n",
      "['Why does the Sun shine?\\n\\nThe Sun is the brightest star in the night sky, and', 'Why does the Sun shine?\\n\\nThe Sun is the brightest star in the night sky. The', 'Why does the Sun shine?\\n\\nThe Sun is the brightest star in the night sky. It']\n",
      "\n",
      "#---------------------\n",
      "Data transfer stats:\n",
      "\tNUMA 0 -> CUDA 0\t5.2902 GB\t287.1630 MB/s\t(transfers : 423 - avg 12.8065 MB)\n",
      "\tCUDA 0 -> NUMA 0\t0.0084 GB\t0.4574 MB/s\t(transfers : 42 - avg 0.2054 MB)\n",
      "Total transfers: 5.2986 GB\n",
      "#---------------------\n"
     ]
    }
   ],
   "source": [
    "!python ../wrappers/python/examples/gpt_neo_generate.py --cache_dir=.model --max-seq-len=512 \\\n",
    "    --restrict=cuda --use-cache \\\n",
    "    --num-beams=3 --parallel-sampling-mode=BeamSearch \\\n",
    "    --prompt=\"Why does the Sun shine?\" \\\n",
    "    --max-tokens=20"
   ]
  },
  {
   "cell_type": "markdown",
   "id": "48af085b-804f-44b2-ab93-813232bb82c1",
   "metadata": {},
   "source": [
    "#### 4.2. Examples with different token generation modes and temperatures"
   ]
  },
  {
   "cell_type": "markdown",
   "id": "5d85e6b8-10ed-4141-bc91-ae9192840b8f",
   "metadata": {},
   "source": [
    "`TopK` token generation strategy with default temperature value of `1.0`."
   ]
  },
  {
   "cell_type": "code",
   "execution_count": 9,
   "id": "c3df7904-7086-4409-aaaa-3ce9ef3731ab",
   "metadata": {},
   "outputs": [
    {
     "name": "stdout",
     "output_type": "stream",
     "text": [
      "2025-07-02 13:51:37.867946: E external/local_xla/xla/stream_executor/cuda/cuda_fft.cc:485] Unable to register cuFFT factory: Attempting to register factory for plugin cuFFT when one has already been registered\n",
      "2025-07-02 13:51:37.885493: E external/local_xla/xla/stream_executor/cuda/cuda_dnn.cc:8454] Unable to register cuDNN factory: Attempting to register factory for plugin cuDNN when one has already been registered\n",
      "2025-07-02 13:51:37.890736: E external/local_xla/xla/stream_executor/cuda/cuda_blas.cc:1452] Unable to register cuBLAS factory: Attempting to register factory for plugin cuBLAS when one has already been registered\n",
      "2025-07-02 13:51:37.904829: I tensorflow/core/platform/cpu_feature_guard.cc:210] This TensorFlow binary is optimized to use available CPU instructions in performance-critical operations.\n",
      "To enable the following instructions: AVX2 FMA, in other operations, rebuild TensorFlow with the appropriate compiler flags.\n",
      "2025-07-02 13:51:39.027637: W tensorflow/compiler/tf2tensorrt/utils/py_utils.cc:38] TF-TRT Warning: Could not find TensorRT\n",
      "Notice:\n",
      " None\n",
      "Why does the Sun shine?\n",
      "\n",
      "Sunlight shines on all living things, even if the light\n",
      "\n",
      "#---------------------\n",
      "Data transfer stats:\n",
      "\tNUMA 0 -> CUDA 0\t5.2902 GB\t315.9689 MB/s\t(transfers : 372 - avg 14.5623 MB)\n",
      "\tCUDA 0 -> NUMA 0\t0.0036 GB\t0.2125 MB/s\t(transfers : 16 - avg 0.2277 MB)\n",
      "Total transfers: 5.2938 GB\n",
      "#---------------------\n"
     ]
    }
   ],
   "source": [
    "!python ../wrappers/python/examples/gpt_neo_generate.py --cache_dir=.model --max-seq-len=512 \\\n",
    "    --restrict=cuda --use-cache \\\n",
    "    --generation-mode=TopK --top-k=10 \\\n",
    "    --prompt=\"Why does the Sun shine?\" \\\n",
    "    --max-tokens=20"
   ]
  },
  {
   "cell_type": "markdown",
   "id": "d65c0658-774f-4ef3-8811-abe8fab83491",
   "metadata": {},
   "source": [
    "`TopK` token generation strategy with the temperature value of `100.0`."
   ]
  },
  {
   "cell_type": "code",
   "execution_count": 10,
   "id": "b4f2b00b-b02f-48f9-be97-a1025fafffa5",
   "metadata": {},
   "outputs": [
    {
     "name": "stdout",
     "output_type": "stream",
     "text": [
      "2025-07-02 13:52:02.392681: E external/local_xla/xla/stream_executor/cuda/cuda_fft.cc:485] Unable to register cuFFT factory: Attempting to register factory for plugin cuFFT when one has already been registered\n",
      "2025-07-02 13:52:02.410276: E external/local_xla/xla/stream_executor/cuda/cuda_dnn.cc:8454] Unable to register cuDNN factory: Attempting to register factory for plugin cuDNN when one has already been registered\n",
      "2025-07-02 13:52:02.415815: E external/local_xla/xla/stream_executor/cuda/cuda_blas.cc:1452] Unable to register cuBLAS factory: Attempting to register factory for plugin cuBLAS when one has already been registered\n",
      "2025-07-02 13:52:02.430283: I tensorflow/core/platform/cpu_feature_guard.cc:210] This TensorFlow binary is optimized to use available CPU instructions in performance-critical operations.\n",
      "To enable the following instructions: AVX2 FMA, in other operations, rebuild TensorFlow with the appropriate compiler flags.\n",
      "2025-07-02 13:52:03.571798: W tensorflow/compiler/tf2tensorrt/utils/py_utils.cc:38] TF-TRT Warning: Could not find TensorRT\n",
      "Notice:\n",
      " None\n",
      "Why does the Sun shine? The Sun\n",
      "is\n",
      "not just shining; its glow radiated across\n",
      "\n",
      "#---------------------\n",
      "Data transfer stats:\n",
      "\tNUMA 0 -> CUDA 0\t5.2902 GB\t317.6895 MB/s\t(transfers : 372 - avg 14.5623 MB)\n",
      "\tCUDA 0 -> NUMA 0\t0.0036 GB\t0.2136 MB/s\t(transfers : 16 - avg 0.2277 MB)\n",
      "Total transfers: 5.2938 GB\n",
      "#---------------------\n"
     ]
    }
   ],
   "source": [
    "!python ../wrappers/python/examples/gpt_neo_generate.py --cache_dir=.model --max-seq-len=512 \\\n",
    "    --restrict=cuda --use-cache \\\n",
    "    --generation-mode=TopK --top-k=10 --temperature=100.0 \\\n",
    "    --prompt=\"Why does the Sun shine?\" \\\n",
    "    --max-tokens=20"
   ]
  },
  {
   "cell_type": "markdown",
   "id": "abafa7ad-b945-4b48-a537-c4b0eeb280b2",
   "metadata": {},
   "source": [
    "`TopK` token generation strategy with the temperature value of `0.01`."
   ]
  },
  {
   "cell_type": "code",
   "execution_count": 11,
   "id": "04132839-a8d3-44dc-990d-12d3a9d93a0f",
   "metadata": {},
   "outputs": [
    {
     "name": "stdout",
     "output_type": "stream",
     "text": [
      "2025-07-02 13:52:26.532884: E external/local_xla/xla/stream_executor/cuda/cuda_fft.cc:485] Unable to register cuFFT factory: Attempting to register factory for plugin cuFFT when one has already been registered\n",
      "2025-07-02 13:52:26.550178: E external/local_xla/xla/stream_executor/cuda/cuda_dnn.cc:8454] Unable to register cuDNN factory: Attempting to register factory for plugin cuDNN when one has already been registered\n",
      "2025-07-02 13:52:26.555950: E external/local_xla/xla/stream_executor/cuda/cuda_blas.cc:1452] Unable to register cuBLAS factory: Attempting to register factory for plugin cuBLAS when one has already been registered\n",
      "2025-07-02 13:52:26.570182: I tensorflow/core/platform/cpu_feature_guard.cc:210] This TensorFlow binary is optimized to use available CPU instructions in performance-critical operations.\n",
      "To enable the following instructions: AVX2 FMA, in other operations, rebuild TensorFlow with the appropriate compiler flags.\n",
      "2025-07-02 13:52:27.678283: W tensorflow/compiler/tf2tensorrt/utils/py_utils.cc:38] TF-TRT Warning: Could not find TensorRT\n",
      "Notice:\n",
      " None\n",
      "Why does the Sun shine?\n",
      "\n",
      "The Sun is the brightest star in the night sky. It\n",
      "\n",
      "#---------------------\n",
      "Data transfer stats:\n",
      "\tNUMA 0 -> CUDA 0\t5.2902 GB\t317.4509 MB/s\t(transfers : 372 - avg 14.5623 MB)\n",
      "\tCUDA 0 -> NUMA 0\t0.0036 GB\t0.2135 MB/s\t(transfers : 16 - avg 0.2277 MB)\n",
      "Total transfers: 5.2938 GB\n",
      "#---------------------\n"
     ]
    }
   ],
   "source": [
    "!python ../wrappers/python/examples/gpt_neo_generate.py --cache_dir=.model --max-seq-len=512 \\\n",
    "    --restrict=cuda --use-cache \\\n",
    "    --generation-mode=TopK --top-k=10 --temperature=0.01 \\\n",
    "    --prompt=\"Why does the Sun shine?\" \\\n",
    "    --max-tokens=20"
   ]
  },
  {
   "cell_type": "markdown",
   "id": "f21ec2ce-6d02-46e6-aa4a-e2a403f419d5",
   "metadata": {},
   "source": [
    "`TopP` token generation strategy with default temperature value of `1.0`."
   ]
  },
  {
   "cell_type": "code",
   "execution_count": 12,
   "id": "ece1525e-1b46-4927-89e0-6ede80058290",
   "metadata": {},
   "outputs": [
    {
     "name": "stdout",
     "output_type": "stream",
     "text": [
      "2025-07-02 13:52:50.830851: E external/local_xla/xla/stream_executor/cuda/cuda_fft.cc:485] Unable to register cuFFT factory: Attempting to register factory for plugin cuFFT when one has already been registered\n",
      "2025-07-02 13:52:50.854185: E external/local_xla/xla/stream_executor/cuda/cuda_dnn.cc:8454] Unable to register cuDNN factory: Attempting to register factory for plugin cuDNN when one has already been registered\n",
      "2025-07-02 13:52:50.861198: E external/local_xla/xla/stream_executor/cuda/cuda_blas.cc:1452] Unable to register cuBLAS factory: Attempting to register factory for plugin cuBLAS when one has already been registered\n",
      "2025-07-02 13:52:50.878937: I tensorflow/core/platform/cpu_feature_guard.cc:210] This TensorFlow binary is optimized to use available CPU instructions in performance-critical operations.\n",
      "To enable the following instructions: AVX2 FMA, in other operations, rebuild TensorFlow with the appropriate compiler flags.\n",
      "2025-07-02 13:52:51.984631: W tensorflow/compiler/tf2tensorrt/utils/py_utils.cc:38] TF-TRT Warning: Could not find TensorRT\n",
      "Notice:\n",
      " None\n",
      "Why does the Sun shine?\n",
      "\n",
      "This question can be boiled down to the exact same scientific rationale\n",
      "\n",
      "#---------------------\n",
      "Data transfer stats:\n",
      "\tNUMA 0 -> CUDA 0\t5.2902 GB\t311.6803 MB/s\t(transfers : 372 - avg 14.5623 MB)\n",
      "\tCUDA 0 -> NUMA 0\t0.0036 GB\t0.2096 MB/s\t(transfers : 16 - avg 0.2277 MB)\n",
      "Total transfers: 5.2938 GB\n",
      "#---------------------\n"
     ]
    }
   ],
   "source": [
    "!python ../wrappers/python/examples/gpt_neo_generate.py --cache_dir=.model --max-seq-len=512 \\\n",
    "    --restrict=cuda --use-cache \\\n",
    "    --generation-mode=TopP --top-p=0.1 \\\n",
    "    --prompt=\"Why does the Sun shine?\" \\\n",
    "    --max-tokens=20"
   ]
  },
  {
   "cell_type": "markdown",
   "id": "753a826b-2e50-4b4c-8d17-5cfdde6cca96",
   "metadata": {},
   "source": [
    "`TopP` token generation strategy with the temperature value of `100.0`."
   ]
  },
  {
   "cell_type": "code",
   "execution_count": 5,
   "id": "1e05e978-1dd1-4f10-ac24-81bba48dd0eb",
   "metadata": {},
   "outputs": [
    {
     "name": "stdout",
     "output_type": "stream",
     "text": [
      "2025-07-02 14:01:07.479862: E external/local_xla/xla/stream_executor/cuda/cuda_fft.cc:485] Unable to register cuFFT factory: Attempting to register factory for plugin cuFFT when one has already been registered\n",
      "2025-07-02 14:01:07.501874: E external/local_xla/xla/stream_executor/cuda/cuda_dnn.cc:8454] Unable to register cuDNN factory: Attempting to register factory for plugin cuDNN when one has already been registered\n",
      "2025-07-02 14:01:07.508632: E external/local_xla/xla/stream_executor/cuda/cuda_blas.cc:1452] Unable to register cuBLAS factory: Attempting to register factory for plugin cuBLAS when one has already been registered\n",
      "2025-07-02 14:01:07.524738: I tensorflow/core/platform/cpu_feature_guard.cc:210] This TensorFlow binary is optimized to use available CPU instructions in performance-critical operations.\n",
      "To enable the following instructions: AVX2 FMA, in other operations, rebuild TensorFlow with the appropriate compiler flags.\n",
      "2025-07-02 14:01:08.587516: W tensorflow/compiler/tf2tensorrt/utils/py_utils.cc:38] TF-TRT Warning: Could not find TensorRT\n",
      "Notice:\n",
      " None\n",
      "Why does the Sun shine? ostructivity photoConst layerdsGal UShed dimensionsSeries measurementswater\n",
      "\n",
      "#---------------------\n",
      "Data transfer stats:\n",
      "\tNUMA 0 -> CUDA 0\t5.2902 GB\t365.8365 MB/s\t(transfers : 372 - avg 14.5623 MB)\n",
      "\tCUDA 0 -> NUMA 0\t0.0036 GB\t0.2460 MB/s\t(transfers : 16 - avg 0.2277 MB)\n",
      "Total transfers: 5.2938 GB\n",
      "#---------------------\n"
     ]
    }
   ],
   "source": [
    "!python ../wrappers/python/examples/gpt_neo_generate.py --cache_dir=.model --max-seq-len=512 \\\n",
    "    --restrict=cuda --use-cache \\\n",
    "    --generation-mode=TopP --top-p=0.1 --temperature=100.0 \\\n",
    "    --prompt=\"Why does the Sun shine?\" \\\n",
    "    --max-tokens=20"
   ]
  },
  {
   "cell_type": "markdown",
   "id": "ea904947-e55e-49cf-9909-235fa6b9242e",
   "metadata": {},
   "source": [
    "`TopP` token generation strategy with the temperature value of `0.01`."
   ]
  },
  {
   "cell_type": "code",
   "execution_count": 14,
   "id": "2314dc88-9403-4a2d-8b05-36fa24805eea",
   "metadata": {},
   "outputs": [
    {
     "name": "stdout",
     "output_type": "stream",
     "text": [
      "2025-07-02 13:53:39.915525: E external/local_xla/xla/stream_executor/cuda/cuda_fft.cc:485] Unable to register cuFFT factory: Attempting to register factory for plugin cuFFT when one has already been registered\n",
      "2025-07-02 13:53:39.939047: E external/local_xla/xla/stream_executor/cuda/cuda_dnn.cc:8454] Unable to register cuDNN factory: Attempting to register factory for plugin cuDNN when one has already been registered\n",
      "2025-07-02 13:53:39.945957: E external/local_xla/xla/stream_executor/cuda/cuda_blas.cc:1452] Unable to register cuBLAS factory: Attempting to register factory for plugin cuBLAS when one has already been registered\n",
      "2025-07-02 13:53:39.963071: I tensorflow/core/platform/cpu_feature_guard.cc:210] This TensorFlow binary is optimized to use available CPU instructions in performance-critical operations.\n",
      "To enable the following instructions: AVX2 FMA, in other operations, rebuild TensorFlow with the appropriate compiler flags.\n",
      "2025-07-02 13:53:41.060331: W tensorflow/compiler/tf2tensorrt/utils/py_utils.cc:38] TF-TRT Warning: Could not find TensorRT\n",
      "Notice:\n",
      " None\n",
      "Why does the Sun shine?\n",
      "\n",
      "The Sun is the brightest star in the night sky. It\n",
      "\n",
      "#---------------------\n",
      "Data transfer stats:\n",
      "\tNUMA 0 -> CUDA 0\t5.2902 GB\t307.2467 MB/s\t(transfers : 372 - avg 14.5623 MB)\n",
      "\tCUDA 0 -> NUMA 0\t0.0036 GB\t0.2066 MB/s\t(transfers : 16 - avg 0.2277 MB)\n",
      "Total transfers: 5.2938 GB\n",
      "#---------------------\n"
     ]
    }
   ],
   "source": [
    "!python ../wrappers/python/examples/gpt_neo_generate.py --cache_dir=.model --max-seq-len=512 \\\n",
    "    --restrict=cuda --use-cache \\\n",
    "    --generation-mode=TopP --top-p=0.1 --temperature=0.01 \\\n",
    "    --prompt=\"Why does the Sun shine?\" \\\n",
    "    --max-tokens=20"
   ]
  }
 ],
 "metadata": {
  "kernelspec": {
   "display_name": "Python 3 (ipykernel)",
   "language": "python",
   "name": "python3"
  },
  "language_info": {
   "codemirror_mode": {
    "name": "ipython",
    "version": 3
   },
   "file_extension": ".py",
   "mimetype": "text/x-python",
   "name": "python",
   "nbconvert_exporter": "python",
   "pygments_lexer": "ipython3",
   "version": "3.10.12"
  }
 },
 "nbformat": 4,
 "nbformat_minor": 5
}
