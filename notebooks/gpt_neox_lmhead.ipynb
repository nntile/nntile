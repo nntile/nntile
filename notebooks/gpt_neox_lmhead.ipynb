{
 "cells": [
  {
   "cell_type": "markdown",
   "id": "41aa6b77-ad06-43da-b6ae-62e2200ba5a7",
   "metadata": {},
   "source": [
    "### 1. Environment variable setting block:\n",
    "\n",
    "The following block is required to set environment variables that are read during the execution of the program code. \n",
    "\n",
    "User can change these environment variables between runs."
   ]
  },
  {
   "cell_type": "code",
   "execution_count": null,
   "id": "9a7c9e3f-1c2f-44e3-a887-025863461efb",
   "metadata": {},
   "outputs": [],
   "source": [
    "# Preliminary setup of experimental environment\n",
    "import os\n",
    "from pathlib import Path\n",
    "import subprocess\n",
    "\n",
    "nntile_dir = Path.cwd() / \"..\"\n",
    "\n",
    "# Set environment variables\n",
    "os.environ[\"CUDA_VISIBLE_DEVICES\"] = \"0\" # Limit CUDA visibility\n",
    "os.environ[\"OMP_NUM_THREADS\"] = \"1\" # Disable BLAS parallelism\n",
    "os.environ[\"PYTHONPATH\"] = str(nntile_dir / \"build\" / \"wrappers\" / \"python\") # Path to a binary dir of NNTile Python wrappers\n",
    "\n",
    "# All StarPU environment variables are available at https://files.inria.fr/starpu/doc/html/ExecutionConfigurationThroughEnvironmentVariables.html\n",
    "os.environ[\"STARPU_NCPU\"] = \"1\" # Use only 1 CPU core\n",
    "os.environ[\"STARPU_NCUDA\"] = \"1\" # Use only 1 CUDA device\n",
    "os.environ[\"STARPU_SILENT\"] = \"1\" # Do not show lots of StarPU outputs\n",
    "os.environ[\"STARPU_SCHED\"] = \"dmdasd\" # Name StarPU scheduler to be used\n",
    "os.environ[\"STARPU_FXT_TRACE\"] = \"0\" # Do not generate FXT traces\n",
    "os.environ[\"STARPU_WORKERS_NOBIND\"] = \"1\" # Do not bind workers (it helps if several instances of StarPU run in parallel)\n",
    "os.environ[\"STARPU_PROFILING\"] = \"1\" # This enables logging performance of workers and bandwidth of memory nodes\n",
    "os.environ[\"STARPU_BUS_STATS\"] = \"1\" # This enables logging of bus usage, prined at the end of execution\n",
    "os.environ[\"STARPU_HOME\"] = str(Path.cwd() / \"starpu\") # Main directory in which StarPU stores its configuration files\n",
    "os.environ[\"STARPU_PERF_MODEL_DIR\"] = str(Path(os.environ[\"STARPU_HOME\"]) / \"sampling\") # Main directory in which StarPU stores its performance model files\n",
    "os.environ[\"STARPU_PERF_MODEL_HOMOGENEOUS_CPU\"] = \"1\" # Assume all CPU cores are equal\n",
    "os.environ[\"STARPU_PERF_MODEL_HOMOGENEOUS_CUDA\"] = \"1\" # Assume all CUDA devices are equal\n",
    "os.environ[\"STARPU_HOSTNAME\"] = \"GPT_NeoX_LMHead_example\" # Force the hostname to be used when managing performance model files\n",
    "os.environ[\"STARPU_FXT_PREFIX\"] = str(Path(os.environ[\"STARPU_HOME\"]) / \"fxt\") # Directory to store FXT traces if enabled"
   ]
  },
  {
   "cell_type": "markdown",
   "id": "eda8db2a-d4e7-475a-bb96-b4ce77c282eb",
   "metadata": {},
   "source": [
    "### 2. Data Preparation Block: \n",
    "\n",
    "This block uses the interpreted file \"causal_lm_data_preparation.py\". This Python script supports the following arguments when run:\n",
    "- hf-dataset, (default=`\"roneneldan/TinyStories\"`): The name of the dataset to be processed and prepared for use in the training process. By default, the \"TinyStories\" dataset from the Huggingface infrastructure is specified,\n",
    "- dataset-path, (default=`\".data\"`): path to the directory where previously downloaded datasets from remote sources are saved, making it easy to access for the future use,\n",
    "- dataset-select, (`int`, default=`100`): specifies the number of records from the original dataset that fall into the training set,\n",
    "- hf-tokenizer, (`str`, default=`\"kimihailv/llama-1.3b\"`): specifies the repository from the Huggingface infrastructure used as a tokenizer,\n",
    "- tokenizer-path, (`str`, default=`\".model\"`): path to the directory where previously downloaded tokenizers are saved,\n",
    "- seq-len, (`int`, default=`1024`): length of the input token sequence for the training process,\n",
    "- batch-size, (`int`, default=`1`): batch size for the training process, then is the number of input data sentences between which the loss function optimizer step is called."
   ]
  },
  {
   "cell_type": "code",
   "execution_count": 2,
   "id": "b152f53e-78c7-4900-b8d1-72352189b448",
   "metadata": {},
   "outputs": [],
   "source": [
    "# Prepare TinyStories dataset into train.bin file\n",
    "!python ../wrappers/python/examples/causal_lm_data_preparation.py \\\n",
    "    --hf-tokenizer=\"EleutherAI/gpt-neox-20b\" --seq-len=256 --batch-size=256 --dataset-select=5000"
   ]
  },
  {
   "cell_type": "markdown",
   "id": "f43ef5ba-5d79-405b-bc9a-65985d93c458",
   "metadata": {},
   "source": [
    "### 3. Example Scenarios"
   ]
  },
  {
   "cell_type": "markdown",
   "id": "a88c7b5c-0e25-4da4-b171-0bfddf3f6ee3",
   "metadata": {},
   "source": [
    "Below we show an example of utilizing the GPT-NeoX model, implemented using the NNTile framework. We explore the following scenarios:\n",
    "\n",
    "- **Training the model from a random initial state and saving it to a checkpoint.**\n",
    "- **Loading the model weights from a checkpoint and continuing training with a different data type.**"
   ]
  },
  {
   "cell_type": "markdown",
   "id": "820da002-7c8a-4481-98b7-fa8dc4732b0a",
   "metadata": {},
   "source": [
    "For training and continuing retraining scenarios, the interpreted file \"gpt_neox_training.py\" is used. This Python script supports the following arguments when running:\n",
    "\n",
    "- remote_model_name, (`str`, default=`\"EleutherAI/gpt-neox-20b\"`): This parameter specifies the name of the GPT-NeoX based model that resides within the HuggingFace infrastructure and will be utilized to initialize the configuration and the intial state of the NNTile model.\n",
    "\n",
    "- pretrained, (choices=`[\"local\", \"remote\"]`, default=`\"local\"`): This flag indicates the location of the pretrained model, with the `local` option requiring a configuration path (`config-path`) to start training from a randomly initialized state unless the checkpoint (`checkpoint-path`) is provided, in which case training continues from the last saved checkpoint state.\n",
    "\n",
    "- checkpoint-path, (`str`, default=`\"\"`): This refers to the file path where a saved checkpoint can be found, allowing for the resumption of training from a specific point if available.\n",
    "\n",
    "- config-path, (`str`, default=`\"\"`): This denotes the path to the configuration .json file that must be provided in the current version if the `pretrained` parameter is set to `\"local\"`.\n",
    "\n",
    "- save-checkpoint-path, (`str`, default=`\".model\"`): This parameter specifies the directory path where intermediate checkpoints will be saved during the training process for future reference.\n",
    "\n",
    "- optimizer, (choices=`[\"sgd\", \"adam\", \"adamw\"]`, default=`\"adam\"`): This defines the type of optimizer that will be employed during the training process; the current version of NNTile supports three distinct optimization methods.\n",
    "\n",
    "- model-path, (`str`, default=`\".model\"`): This indicates the directory path where previously loaded remote models are stored, facilitating easy access for further use.\n",
    "\n",
    "- seq-len, (`int`, default=`1024`): length of the input token sequence for training.\n",
    "\n",
    "- seq-len-tile, (`int`, default=`1024`): split size of sequence length into tiles\n",
    "\n",
    "- batch-size, (`int`, default=`1`): batch size for the training process, which specifies the number of sentences processed by seq-len tokens between steps of the loss function optimizer.\n",
    "\n",
    "- minibatch-size, (`int`, default=`-1`): batch size for which memory is allocated during training. The entire batch is divided into whole minibatches. All minibatches from one batch are fed through the model one by one to accumulate parameter gradients.\n",
    "\n",
    "- minibatch-size-tile, (`int`, default=`-1`): batch size that goes to the CPU or GPU for calculations. Each minibatch must be divisible by an integer number of minibatch tiles.\n",
    "\n",
    "- hidden-size-tile, (`int`, default=`-1`): the size of the pieces (tiles) into which the \"hidden size\" dimension is divided (also known as \"embedding size\") – the size of the multidimensional space into which incoming tokens are mapped. Only \"piecewise\" tensors of size hidden-size-tile along the corresponding axis are processed on the CPU and GPU.\n",
    "\n",
    "- intermediate-size-tile, (`int`, default=`-1`): the size of the pieces (tiles) into which the \"intermediate size\" dimension is divided. Only \"piecewise\" tensors of size intermediate-size-tile along the corresponding axis are processed on the CPU and GPU.\n",
    "\n",
    "- n-head-tile, (`int`, default=`-1`): the size of the pieces (tiles) into which the number of heads of the transformer layer is divided. Only “piecewise” tensors with a size of n-head-tile along the corresponding axis are processed by the CPU and GPU.\n",
    "\n",
    "- dtype, (choices=`[\"fp32\", \"fp64\", \"tf32\", \"bf16\", \"fp32_fast_fp16\", \"fp32_fast_bf16\"]`, default=`\"fp32\"`): This parameter outlines the various data types supported by NNTile, allowing users the flexibility to choose based on their model requirements.\n",
    "\n",
    "- restrict, (choices=`[\"cpu\", \"cuda\", None]`, default=`None`): This option allows users to specify restrictions on the computational resources utilized during training; selecting `\"cpu\"` restricts training to CPU-only cores, `\"cuda\"` limits it to GPU cores, while setting it to None allows for training across all available cores.\n",
    "\n",
    "- use-redux, (action=`\"store_true\"`): a boolean flag that, when used in the argument string, allows for the computation of dependent tasks simultaneously, with the subsequent reduction of the results into a single tensor.\n",
    "\n",
    "- dataset-path, (default=`\".data\"`): path to the directory where previously prepared datasets are saved.\n",
    "\n",
    "- dataset-file, (default=`\"\"`): path (relative to dataset-path) to the .bin file that is created in the block of data preparation for training.\n",
    "\n",
    "- lr, (`float`, default=`1e-4`): step length for the optimization algorithm.\n",
    "\n",
    "- nepochs, (`int`, default=`1`): number of full passes through the training set.\n",
    "\n",
    "- logger, (action=`\"store_true\"`): a boolean flag that enables special logger thread, that forwards logs to a provided remote logger server\n",
    "\n",
    "- logger-server-addr, (default=`\"localhost\"`): remote logger server URL\n",
    "\n",
    "- logger-server-port, (`int`, default=`5001`): remote logger server port"
   ]
  },
  {
   "cell_type": "markdown",
   "id": "027fba23-7123-47dc-9781-13f7c17a912b",
   "metadata": {},
   "source": [
    "#### 3.1. Training from the random initial state and saving into checkpoint.\n",
    "\n",
    "This requires option `pretrained` set to `local` and `config-path` to point on previously created `.json` configuration file.\n",
    "\n",
    "In this example, we start training in the fp32 type."
   ]
  },
  {
   "cell_type": "code",
   "execution_count": 3,
   "id": "86bd4e10-4626-4140-a989-aced3dfac91d",
   "metadata": {},
   "outputs": [
    {
     "name": "stdout",
     "output_type": "stream",
     "text": [
      "Namespace(remote_model_name='EleutherAI/gpt-neox-20b', pretrained='local', checkpoint_path='', config_path='../wrappers/python/examples/gpt_neox_config.json', save_checkpoint_path='.model/nntile_checkpoint.pt', optimizer='adam', model_path='.model', seq_len=256, seq_len_tile=-1, batch_size=256, minibatch_size=8, minibatch_size_tile=-1, hidden_size_tile=-1, intermediate_size_tile=-1, n_head_tile=-1, dtype='fp32', restrict='cuda', use_redux=False, dataset_path='.data', dataset_file='tinystories/train.bin', lr=0.0001, nepochs=1, logger=False, logger_server_addr='localhost', logger_server_port=5001)\n",
      "GPTNeoXConfig {\n",
      "  \"activation_function\": \"gelu\",\n",
      "  \"architectures\": [\n",
      "    \"GPTNeoXForCausalLM\"\n",
      "  ],\n",
      "  \"attention_bias\": false,\n",
      "  \"attention_dropout\": 0.0,\n",
      "  \"bos_token_id\": 50256,\n",
      "  \"classifier_dropout\": 0.1,\n",
      "  \"eos_token_id\": 50256,\n",
      "  \"hidden_act\": \"gelu\",\n",
      "  \"hidden_dropout\": 0.0,\n",
      "  \"hidden_size\": 1024,\n",
      "  \"initializer_range\": 0.02,\n",
      "  \"intermediate_size\": 4096,\n",
      "  \"layer_norm_eps\": 1e-05,\n",
      "  \"max_position_embeddings\": 2048,\n",
      "  \"model_type\": \"gpt_neox\",\n",
      "  \"num_attention_heads\": 16,\n",
      "  \"num_hidden_layers\": 11,\n",
      "  \"partial_rotary_factor\": 1.0,\n",
      "  \"rope_scaling\": null,\n",
      "  \"rope_theta\": 10000,\n",
      "  \"rotary_emb_base\": 10000,\n",
      "  \"rotary_pct\": 1.0,\n",
      "  \"tie_word_embeddings\": false,\n",
      "  \"transformers_version\": \"4.52.4\",\n",
      "  \"use_cache\": false,\n",
      "  \"use_parallel_residual\": true,\n",
      "  \"vocab_size\": 50280\n",
      "}\n",
      "\n",
      "StarPU + NNTile + MPI init in 1.2782666683197021 seconds\n",
      "GPTNeoXConfig(vocab_size=50280, vocab_embed_dim_tile=1024, hidden_size=1024, hidden_size_tile=1024, intermediate_size=4096, intermediate_size_tile=4096, num_heads=16, num_heads_tile=16, activation_function='gelu', dtype='fp32', flash_attention=False, layer_norm_epsilon=1e-05, max_position_embeddings=2048, num_hidden_layers=11, redux=False, bos_token_id=50256, eos_token_id=50256, rotary_pct=0.25, rotary_emb_base=10000, use_parallel_residual=False, attention_bias=False, name='gpt-neox')\n",
      "Converting PyTorch model to NNTile requires 2.2335569858551025 seconds\n",
      "From PyTorch loader to NNTile batches in 0.052139997482299805 seconds\n",
      "Params+grads (GB): 1.799\n",
      "Activations  (GB): 3.205\n",
      "Optimizer    (GB): 1.799\n",
      "Persistent   (GB): 6.803\n",
      "Temporaries  (GB): 2.776\n",
      "Batch=1/15 Epoch=1/1 Loss=11.066783905029297\n",
      "Batch=2/15 Epoch=1/1 Loss=9.411258697509766\n",
      "Batch=3/15 Epoch=1/1 Loss=8.754871368408203\n",
      "Batch=4/15 Epoch=1/1 Loss=8.503157615661621\n",
      "Batch=5/15 Epoch=1/1 Loss=8.227334976196289\n",
      "Batch=6/15 Epoch=1/1 Loss=8.161490440368652\n",
      "Batch=7/15 Epoch=1/1 Loss=7.914449691772461\n",
      "Batch=8/15 Epoch=1/1 Loss=7.666633129119873\n",
      "Batch=9/15 Epoch=1/1 Loss=7.582735061645508\n",
      "Batch=10/15 Epoch=1/1 Loss=7.356930255889893\n",
      "Batch=11/15 Epoch=1/1 Loss=7.217350482940674\n",
      "Batch=12/15 Epoch=1/1 Loss=7.1303181648254395\n",
      "Batch=13/15 Epoch=1/1 Loss=6.92798376083374\n",
      "Batch=14/15 Epoch=1/1 Loss=6.863421440124512\n",
      "Batch=15/15 Epoch=1/1 Loss=6.702801704406738\n",
      "NNTile training time: 86.0139307975769 seconds\n",
      "NNTile training throughput tokens/sec: 11428.846361102394\n",
      "NNTile performance (model flops): 9.858162268126542 Tflops/s\n",
      "NNTile loss on the last batch: 6.702801704406738\n",
      "\n",
      "#---------------------\n",
      "Data transfer stats:\n",
      "\tNUMA 0 -> CUDA 0\t0.0000 GB\t0.0000 MB/s\t(transfers : 0 - avg -nan MB)\n",
      "\tCUDA 0 -> NUMA 0\t0.8996 GB\t9.6507 MB/s\t(transfers : 151 - avg 6.1007 MB)\n",
      "Total transfers: 0.8996 GB\n",
      "#---------------------\n"
     ]
    }
   ],
   "source": [
    "# Launch an external python process to train gpt_neox model on TinyStories\n",
    "!python ../wrappers/python/examples/gpt_neox_training.py \\\n",
    "    --restrict=\"cuda\" --pretrained=local --config-path=\"../wrappers/python/examples/gpt_neox_config.json\" \\\n",
    "    --save-checkpoint-path=\".model/nntile_checkpoint.pt\" --optimizer=\"adam\" --seq-len=256 --lr=1e-4 --dtype=fp32 --nepochs=1 \\\n",
    "    --batch-size=256 --minibatch-size=8 --dataset-file=\"tinystories/train.bin\""
   ]
  },
  {
   "cell_type": "markdown",
   "id": "7e26a9db-4d52-439f-8d08-10673510567a",
   "metadata": {},
   "source": [
    "#### 3.2. Resume training from the local checkpoint.\n",
    "\n",
    "This requires option `pretrained` again to be set to `local`, `config-path` to point on previously created `.json` configuration file, and also `checkpoint-path` to point on the pre-existing checkpoint file in the PyTorch format.\n",
    "\n",
    "Training process can be resumed using a different data type and on a different set of compute nodes. For example, here we switch to the TF32 type (synonymous with the fp32_fast_tf32 type) and restrict to using only GPUs."
   ]
  },
  {
   "cell_type": "code",
   "execution_count": 4,
   "id": "90c5b0d0-9f03-47ac-90be-5eb43c4a5210",
   "metadata": {},
   "outputs": [
    {
     "name": "stdout",
     "output_type": "stream",
     "text": [
      "Namespace(remote_model_name='EleutherAI/gpt-neox-20b', pretrained='local', checkpoint_path='.model/nntile_checkpoint.pt', config_path='../wrappers/python/examples/gpt_neox_config.json', save_checkpoint_path='.model/nntile_further_checkpoint.pt', optimizer='adam', model_path='.model', seq_len=256, seq_len_tile=-1, batch_size=256, minibatch_size=8, minibatch_size_tile=-1, hidden_size_tile=-1, intermediate_size_tile=-1, n_head_tile=-1, dtype='tf32', restrict='cuda', use_redux=False, dataset_path='.data', dataset_file='tinystories/train.bin', lr=0.0001, nepochs=1, logger=False, logger_server_addr='localhost', logger_server_port=5001)\n",
      "GPTNeoXConfig {\n",
      "  \"activation_function\": \"gelu\",\n",
      "  \"architectures\": [\n",
      "    \"GPTNeoXForCausalLM\"\n",
      "  ],\n",
      "  \"attention_bias\": false,\n",
      "  \"attention_dropout\": 0.0,\n",
      "  \"bos_token_id\": 50256,\n",
      "  \"classifier_dropout\": 0.1,\n",
      "  \"eos_token_id\": 50256,\n",
      "  \"hidden_act\": \"gelu\",\n",
      "  \"hidden_dropout\": 0.0,\n",
      "  \"hidden_size\": 1024,\n",
      "  \"initializer_range\": 0.02,\n",
      "  \"intermediate_size\": 4096,\n",
      "  \"layer_norm_eps\": 1e-05,\n",
      "  \"max_position_embeddings\": 2048,\n",
      "  \"model_type\": \"gpt_neox\",\n",
      "  \"num_attention_heads\": 16,\n",
      "  \"num_hidden_layers\": 11,\n",
      "  \"partial_rotary_factor\": 1.0,\n",
      "  \"rope_scaling\": null,\n",
      "  \"rope_theta\": 10000,\n",
      "  \"rotary_emb_base\": 10000,\n",
      "  \"rotary_pct\": 1.0,\n",
      "  \"tie_word_embeddings\": false,\n",
      "  \"transformers_version\": \"4.52.4\",\n",
      "  \"use_cache\": false,\n",
      "  \"use_parallel_residual\": true,\n",
      "  \"vocab_size\": 50280\n",
      "}\n",
      "\n",
      "StarPU + NNTile + MPI init in 1.4175071716308594 seconds\n",
      "GPTNeoXConfig(vocab_size=50280, vocab_embed_dim_tile=1024, hidden_size=1024, hidden_size_tile=1024, intermediate_size=4096, intermediate_size_tile=4096, num_heads=16, num_heads_tile=16, activation_function='gelu', dtype='tf32', flash_attention=False, layer_norm_epsilon=1e-05, max_position_embeddings=2048, num_hidden_layers=11, redux=False, bos_token_id=50256, eos_token_id=50256, rotary_pct=0.25, rotary_emb_base=10000, use_parallel_residual=False, attention_bias=False, name='gpt-neox')\n",
      "Converting PyTorch model to NNTile requires 1.6061921119689941 seconds\n",
      "From PyTorch loader to NNTile batches in 0.03220009803771973 seconds\n",
      "Params+grads (GB): 1.799\n",
      "Activations  (GB): 3.205\n",
      "Optimizer    (GB): 1.799\n",
      "Persistent   (GB): 6.803\n",
      "Temporaries  (GB): 2.776\n",
      "Batch=1/15 Epoch=1/1 Loss=6.606159210205078\n",
      "Batch=2/15 Epoch=1/1 Loss=6.758090019226074\n",
      "Batch=3/15 Epoch=1/1 Loss=6.679775714874268\n",
      "Batch=4/15 Epoch=1/1 Loss=6.361039161682129\n",
      "Batch=5/15 Epoch=1/1 Loss=6.124811172485352\n",
      "Batch=6/15 Epoch=1/1 Loss=6.140568733215332\n",
      "Batch=7/15 Epoch=1/1 Loss=6.02853536605835\n",
      "Batch=8/15 Epoch=1/1 Loss=5.875726699829102\n",
      "Batch=9/15 Epoch=1/1 Loss=5.688417434692383\n",
      "Batch=10/15 Epoch=1/1 Loss=5.571110248565674\n",
      "Batch=11/15 Epoch=1/1 Loss=5.580539226531982\n",
      "Batch=12/15 Epoch=1/1 Loss=5.576332092285156\n",
      "Batch=13/15 Epoch=1/1 Loss=5.396056175231934\n",
      "Batch=14/15 Epoch=1/1 Loss=5.414707660675049\n",
      "Batch=15/15 Epoch=1/1 Loss=5.27034330368042\n",
      "NNTile training time: 27.024354934692383 seconds\n",
      "NNTile training throughput tokens/sec: 36376.076408692636\n",
      "NNTile performance (model flops): 31.37685577217542 Tflops/s\n",
      "NNTile loss on the last batch: 5.27034330368042\n",
      "\n",
      "#---------------------\n",
      "Data transfer stats:\n",
      "\tNUMA 0 -> CUDA 0\t0.0000 GB\t0.0000 MB/s\t(transfers : 0 - avg -nan MB)\n",
      "\tCUDA 0 -> NUMA 0\t0.8996 GB\t25.5969 MB/s\t(transfers : 151 - avg 6.1007 MB)\n",
      "Total transfers: 0.8996 GB\n",
      "#---------------------\n"
     ]
    }
   ],
   "source": [
    "# Launch an external python process to finetune a pretrained NNTile gpt_neox model on TinyStories\n",
    "!python ../wrappers/python/examples/gpt_neox_training.py \\\n",
    "    --restrict=\"cuda\" --pretrained=local --checkpoint-path=\".model/nntile_checkpoint.pt\" \\\n",
    "    --config-path=\"../wrappers/python/examples/gpt_neox_config.json\" \\\n",
    "    --save-checkpoint-path=\".model/nntile_further_checkpoint.pt\" --optimizer=\"adam\" --seq-len=256 --lr=1e-4 --dtype=tf32 \\\n",
    "    --restrict=\"cuda\" --nepochs=1 --batch-size=256 --minibatch-size=8 --dataset-file=\"tinystories/train.bin\""
   ]
  },
  {
   "cell_type": "markdown",
   "id": "08f62c7b-e027-427b-937a-2eeca86441d2",
   "metadata": {},
   "source": [
    "### 4. Inference process.\n",
    "\n",
    "In the current version of the GPT-NeoX scenario, the NNTile framework model is created from a (pre-)loaded pre-trained GPT-NeoX model from the Huggingface library. The model layer weights are passed to the corresponding NNTile model layers, and then the inference process is performed solely by NNTile, without any involvement of third-party models and mechanisms. To perform the inference, we use another program file - \"gpt_neox_generate.py\". The program code supports the following arguments when running:\n",
    "\n",
    "- cache_dir, (`str`, default=\"cache_hf\"): path to the directory where previously loaded models from a remote source are saved,\n",
    "- max-seq-len, (`int`, default=1024): maximum length of the input token sequence,\n",
    "- remote-model-name, (`str`, default=`\"EleutherAI/gpt-neox-20b\"`): This parameter specifies the name of the GPT-NeoX based model that resides within the HuggingFace infrastructure and will be utilized to initialize the configuration and the intial state of the NNTile model.\n",
    "- restrict, (choices=`[\"cpu\", \"cuda\", None]`, default=`None`): limit on the computing resources used during inference; `\"cpu\"` restricts inference to CPU cores only, `\"cuda\"` - to GPU cores only, while None allows using all available cores,\n",
    "- prompt, (`str`, default=`\"What do you think about dogs?\"`): input query, a string fed to the model input to perform inference based on it,\n",
    "- generation-mode, (choices = `[\"Greedy\", \"TopK\", \"TopP\"]`, default=`\"Greedy\"`): token generation mode in the GenerationMode class object (described in the \"llm_params.py\" file),\n",
    "- parallel-sampling-mode, (choices=`[\"BeamSearch\", \"Parallel\"]`, default=`\"BeamSearch\"`): parallel generation mode for multiple responses to a single query in the ParallelSamplingMode class object (described in the \"llm_params.py\" file),\n",
    "- max-tokens, (`int`, default=`100`): maximum number of generated tokens, including user request tokens,\n",
    "- use-cache, (action=`\"store_true\"`): boolean flag, when used in the argument line, enables the use of KV caches, allowing to reuse previously calculated values,\n",
    "- top-k, (`int`, default=`None`): probabilistic selection based on the top-k most probable tokens,\n",
    "- top-p-thr, (`float`, default=`None`): probabilistic selection based on tokens whose probability is not lower than the top-p-thr threshold,\n",
    "- temperature, (`float`, default=`1.0`): \"temperature\" parameter for token generation,\n",
    "- num-beams, (`int`, default=`1`): number of beams for parallel generation mode."
   ]
  },
  {
   "cell_type": "markdown",
   "id": "1a4e45ec-f59a-4fc2-8098-e6384d9ace63",
   "metadata": {},
   "source": [
    "#### 4.1. Examples with different types of generation strategies"
   ]
  },
  {
   "cell_type": "markdown",
   "id": "ec7a3cd8-c56c-4f3c-971d-867d1d8e8040",
   "metadata": {},
   "source": [
    "`BeamSearch` generation strategy and number of beams set to the default value of `1`."
   ]
  },
  {
   "cell_type": "code",
   "execution_count": 5,
   "id": "5b43ba82-4df1-4f9b-8ec7-c56e7e8f5eb8",
   "metadata": {},
   "outputs": [
    {
     "name": "stdout",
     "output_type": "stream",
     "text": [
      "Notice:\n",
      " None\n",
      "Loading checkpoint shards: 100%|███████████████| 46/46 [00:00<00:00, 274.71it/s]\n",
      "Why does the Sun shine?\n",
      "\n",
      "The Sun is a star, and stars are made of gas\n",
      "\n",
      "#---------------------\n",
      "Data transfer stats:\n",
      "\tNUMA 0 -> CUDA 0\t188.0079 GB\t651.4913 MB/s\t(transfers : 1463 - avg 131.5927 MB)\n",
      "\tCUDA 0 -> NUMA 0\t9.0376 GB\t31.3173 MB/s\t(transfers : 116 - avg 79.7800 MB)\n",
      "Total transfers: 197.0454 GB\n",
      "#---------------------\n"
     ]
    }
   ],
   "source": [
    "!python ../wrappers/python/examples/gpt_neox_generate.py --cache_dir=.model --max-seq-len=512 \\\n",
    "    --restrict=cuda --use-cache \\\n",
    "    --prompt=\"Why does the Sun shine?\" \\\n",
    "    --max-tokens=20"
   ]
  },
  {
   "cell_type": "markdown",
   "id": "c7416951-8a17-4fee-9b7a-574bd633a172",
   "metadata": {},
   "source": [
    "`Parallel` generation strategy and number of beams set to `3`."
   ]
  },
  {
   "cell_type": "code",
   "execution_count": 6,
   "id": "c00797ff-4fe4-4a5d-9973-285f6329beac",
   "metadata": {},
   "outputs": [
    {
     "name": "stdout",
     "output_type": "stream",
     "text": [
      "Notice:\n",
      " None\n",
      "Loading checkpoint shards: 100%|███████████████| 46/46 [00:00<00:00, 287.96it/s]\n",
      "['Why does the Sun shine? Because it has a nuclear furnace at its core.\\n\\nWhy does', 'Why does the Sun shine? Why does the Moon change its shape? Why does the wind blow?', 'Why does the Sun shine?\\n\\nThe Sun is a star, and stars are made of gas']\n",
      "\n",
      "#---------------------\n",
      "Data transfer stats:\n",
      "\tNUMA 0 -> CUDA 0\t393.1284 GB\t1192.4457 MB/s\t(transfers : 17864 - avg 22.5349 MB)\n",
      "\tCUDA 0 -> NUMA 0\t9.1191 GB\t27.6602 MB/s\t(transfers : 3441 - avg 2.7137 MB)\n",
      "Total transfers: 402.2475 GB\n",
      "#---------------------\n"
     ]
    }
   ],
   "source": [
    "!python ../wrappers/python/examples/gpt_neox_generate.py --cache_dir=.model --max-seq-len=512 \\\n",
    "    --restrict=cuda --use-cache \\\n",
    "    --num-beams=3 --parallel-sampling-mode=Parallel \\\n",
    "    --prompt=\"Why does the Sun shine?\" \\\n",
    "    --max-tokens=20"
   ]
  },
  {
   "cell_type": "markdown",
   "id": "21af7236-e9da-4fa5-b1d9-538b2e8ab3ce",
   "metadata": {},
   "source": [
    "`BeamSearch` generation strategy and number of beams set to `3`."
   ]
  },
  {
   "cell_type": "code",
   "execution_count": 7,
   "id": "d7eb458f-ef6e-49fb-8b8e-fffec8df8a8e",
   "metadata": {},
   "outputs": [
    {
     "name": "stdout",
     "output_type": "stream",
     "text": [
      "Notice:\n",
      " None\n",
      "Loading checkpoint shards: 100%|███████████████| 46/46 [00:00<00:00, 287.62it/s]\n",
      "['Why does the Sun shine?\\n\\nWhy does the Sun shine?\\n\\nThe Sun is a', 'Why does the Sun shine?\\n\\nWhy does the Sun shine?\\n\\nThe Sun shines', 'Why does the Sun shine?\\n\\nWhy does the Sun shine?\\n\\nWhy does the Sun']\n",
      "\n",
      "#---------------------\n",
      "Data transfer stats:\n",
      "\tNUMA 0 -> CUDA 0\t392.7719 GB\t1206.6735 MB/s\t(transfers : 2511 - avg 160.1746 MB)\n",
      "\tCUDA 0 -> NUMA 0\t9.0512 GB\t27.8071 MB/s\t(transfers : 476 - avg 19.4715 MB)\n",
      "Total transfers: 401.8231 GB\n",
      "#---------------------\n"
     ]
    }
   ],
   "source": [
    "!python ../wrappers/python/examples/gpt_neox_generate.py --cache_dir=.model --max-seq-len=512 \\\n",
    "    --restrict=cuda --use-cache \\\n",
    "    --num-beams=3 --parallel-sampling-mode=BeamSearch \\\n",
    "    --prompt=\"Why does the Sun shine?\" \\\n",
    "    --max-tokens=20"
   ]
  },
  {
   "cell_type": "markdown",
   "id": "48af085b-804f-44b2-ab93-813232bb82c1",
   "metadata": {},
   "source": [
    "#### 4.2. Examples with different token generation modes and temperatures"
   ]
  },
  {
   "cell_type": "markdown",
   "id": "5d85e6b8-10ed-4141-bc91-ae9192840b8f",
   "metadata": {},
   "source": [
    "`TopK` token generation strategy with default temperature value of `1.0`."
   ]
  },
  {
   "cell_type": "code",
   "execution_count": 8,
   "id": "c3df7904-7086-4409-aaaa-3ce9ef3731ab",
   "metadata": {},
   "outputs": [
    {
     "name": "stdout",
     "output_type": "stream",
     "text": [
      "Notice:\n",
      " None\n",
      "Loading checkpoint shards: 100%|███████████████| 46/46 [00:00<00:00, 242.55it/s]\n",
      "Why does the Sun shine?\n",
      "\n",
      "The Sun has a lot more to it than just a ball\n",
      "\n",
      "#---------------------\n",
      "Data transfer stats:\n",
      "\tNUMA 0 -> CUDA 0\t188.0067 GB\t636.9229 MB/s\t(transfers : 1450 - avg 132.7716 MB)\n",
      "\tCUDA 0 -> NUMA 0\t9.0376 GB\t30.6172 MB/s\t(transfers : 116 - avg 79.7800 MB)\n",
      "Total transfers: 197.0443 GB\n",
      "#---------------------\n"
     ]
    }
   ],
   "source": [
    "!python ../wrappers/python/examples/gpt_neox_generate.py --cache_dir=.model --max-seq-len=512 \\\n",
    "    --restrict=cuda --use-cache \\\n",
    "    --generation-mode=TopK --top-k=10 \\\n",
    "    --prompt=\"Why does the Sun shine?\" \\\n",
    "    --max-tokens=20"
   ]
  },
  {
   "cell_type": "markdown",
   "id": "d65c0658-774f-4ef3-8811-abe8fab83491",
   "metadata": {},
   "source": [
    "`TopK` token generation strategy with the temperature value of `100.0`."
   ]
  },
  {
   "cell_type": "code",
   "execution_count": 9,
   "id": "b4f2b00b-b02f-48f9-be97-a1025fafffa5",
   "metadata": {},
   "outputs": [
    {
     "name": "stdout",
     "output_type": "stream",
     "text": [
      "Notice:\n",
      " None\n",
      "Loading checkpoint shards: 100%|███████████████| 46/46 [00:00<00:00, 291.79it/s]\n"
     ]
    },
    {
     "name": "stdout",
     "output_type": "stream",
     "text": [
      "Why does the Sun shine?\n",
      "\n",
      "Why does Earth not move in Space like other planetary objects in\n",
      "\n",
      "#---------------------\n",
      "Data transfer stats:\n",
      "\tNUMA 0 -> CUDA 0\t188.0093 GB\t639.0260 MB/s\t(transfers : 1478 - avg 130.2582 MB)\n",
      "\tCUDA 0 -> NUMA 0\t9.0378 GB\t30.7188 MB/s\t(transfers : 118 - avg 78.4301 MB)\n",
      "Total transfers: 197.0472 GB\n",
      "#---------------------\n"
     ]
    }
   ],
   "source": [
    "!python ../wrappers/python/examples/gpt_neox_generate.py --cache_dir=.model --max-seq-len=512 \\\n",
    "    --restrict=cuda --use-cache \\\n",
    "    --generation-mode=TopK --top-k=10 --temperature=100.0 \\\n",
    "    --prompt=\"Why does the Sun shine?\" \\\n",
    "    --max-tokens=20"
   ]
  },
  {
   "cell_type": "markdown",
   "id": "abafa7ad-b945-4b48-a537-c4b0eeb280b2",
   "metadata": {},
   "source": [
    "`TopK` token generation strategy with the temperature value of `0.01`."
   ]
  },
  {
   "cell_type": "code",
   "execution_count": 10,
   "id": "04132839-a8d3-44dc-990d-12d3a9d93a0f",
   "metadata": {},
   "outputs": [
    {
     "name": "stdout",
     "output_type": "stream",
     "text": [
      "Notice:\n",
      " None\n",
      "Loading checkpoint shards: 100%|███████████████| 46/46 [00:00<00:00, 257.49it/s]\n"
     ]
    },
    {
     "name": "stdout",
     "output_type": "stream",
     "text": [
      "Why does the Sun shine?\n",
      "\n",
      "The Sun is a star, and stars are made of gas\n",
      "\n",
      "#---------------------\n",
      "Data transfer stats:\n",
      "\tNUMA 0 -> CUDA 0\t188.0069 GB\t632.1980 MB/s\t(transfers : 1449 - avg 132.8634 MB)\n",
      "\tCUDA 0 -> NUMA 0\t9.0378 GB\t30.3907 MB/s\t(transfers : 115 - avg 80.4755 MB)\n",
      "Total transfers: 197.0446 GB\n",
      "#---------------------\n"
     ]
    }
   ],
   "source": [
    "!python ../wrappers/python/examples/gpt_neox_generate.py --cache_dir=.model --max-seq-len=512 \\\n",
    "    --restrict=cuda --use-cache \\\n",
    "    --generation-mode=TopK --top-k=10 --temperature=0.01 \\\n",
    "    --prompt=\"Why does the Sun shine?\" \\\n",
    "    --max-tokens=20"
   ]
  },
  {
   "cell_type": "markdown",
   "id": "f21ec2ce-6d02-46e6-aa4a-e2a403f419d5",
   "metadata": {},
   "source": [
    "`TopP` token generation strategy with default temperature value of `1.0`."
   ]
  },
  {
   "cell_type": "code",
   "execution_count": 11,
   "id": "ece1525e-1b46-4927-89e0-6ede80058290",
   "metadata": {},
   "outputs": [
    {
     "name": "stdout",
     "output_type": "stream",
     "text": [
      "Notice:\n",
      " None\n",
      "Loading checkpoint shards: 100%|███████████████| 46/46 [00:00<00:00, 276.17it/s]\n"
     ]
    },
    {
     "name": "stdout",
     "output_type": "stream",
     "text": [
      "Why does the Sun shine? The answer, of course, is that gravity bends the path of\n",
      "\n",
      "#---------------------\n",
      "Data transfer stats:\n",
      "\tNUMA 0 -> CUDA 0\t188.0057 GB\t630.3745 MB/s\t(transfers : 1436 - avg 134.0653 MB)\n",
      "\tCUDA 0 -> NUMA 0\t9.0378 GB\t30.3032 MB/s\t(transfers : 115 - avg 80.4755 MB)\n",
      "Total transfers: 197.0435 GB\n",
      "#---------------------\n"
     ]
    }
   ],
   "source": [
    "!python ../wrappers/python/examples/gpt_neox_generate.py --cache_dir=.model --max-seq-len=512 \\\n",
    "    --restrict=cuda --use-cache \\\n",
    "    --generation-mode=TopP --top-p=0.1 \\\n",
    "    --prompt=\"Why does the Sun shine?\" \\\n",
    "    --max-tokens=20"
   ]
  },
  {
   "cell_type": "markdown",
   "id": "753a826b-2e50-4b4c-8d17-5cfdde6cca96",
   "metadata": {},
   "source": [
    "`TopP` token generation strategy with the temperature value of `100.0`."
   ]
  },
  {
   "cell_type": "code",
   "execution_count": 12,
   "id": "1e05e978-1dd1-4f10-ac24-81bba48dd0eb",
   "metadata": {},
   "outputs": [
    {
     "name": "stdout",
     "output_type": "stream",
     "text": [
      "Notice:\n",
      " None\n",
      "Loading checkpoint shards: 100%|███████████████| 46/46 [00:00<00:00, 281.01it/s]\n",
      "Why does the Sun shine? �507us President sum Michelle their bUU&750 Remagmults\n",
      "\n",
      "#---------------------\n",
      "Data transfer stats:\n",
      "\tNUMA 0 -> CUDA 0\t188.0057 GB\t639.0859 MB/s\t(transfers : 1437 - avg 133.9721 MB)\n",
      "\tCUDA 0 -> NUMA 0\t9.0378 GB\t30.7221 MB/s\t(transfers : 116 - avg 79.7819 MB)\n",
      "Total transfers: 197.0435 GB\n",
      "#---------------------\n"
     ]
    }
   ],
   "source": [
    "!python ../wrappers/python/examples/gpt_neox_generate.py --cache_dir=.model --max-seq-len=512 \\\n",
    "    --restrict=cuda --use-cache \\\n",
    "    --generation-mode=TopP --top-p=0.1 --temperature=100.0 \\\n",
    "    --prompt=\"Why does the Sun shine?\" \\\n",
    "    --max-tokens=20"
   ]
  },
  {
   "cell_type": "markdown",
   "id": "ea904947-e55e-49cf-9909-235fa6b9242e",
   "metadata": {},
   "source": [
    "`TopP` token generation strategy with the temperature value of `0.01`."
   ]
  },
  {
   "cell_type": "code",
   "execution_count": 13,
   "id": "2314dc88-9403-4a2d-8b05-36fa24805eea",
   "metadata": {},
   "outputs": [
    {
     "name": "stdout",
     "output_type": "stream",
     "text": [
      "Notice:\n",
      " None\n",
      "Loading checkpoint shards: 100%|███████████████| 46/46 [00:00<00:00, 297.12it/s]\n",
      "Why does the Sun shine?\n",
      "\n",
      "The Sun is a star, and stars are made of gas\n",
      "\n",
      "#---------------------\n",
      "Data transfer stats:\n",
      "\tNUMA 0 -> CUDA 0\t188.0058 GB\t630.9302 MB/s\t(transfers : 1440 - avg 133.6930 MB)\n",
      "\tCUDA 0 -> NUMA 0\t9.0379 GB\t30.3302 MB/s\t(transfers : 119 - avg 77.7712 MB)\n",
      "Total transfers: 197.0436 GB\n",
      "#---------------------\n"
     ]
    }
   ],
   "source": [
    "!python ../wrappers/python/examples/gpt_neox_generate.py --cache_dir=.model --max-seq-len=512 \\\n",
    "    --restrict=cuda --use-cache \\\n",
    "    --generation-mode=TopP --top-p=0.1 --temperature=0.01 \\\n",
    "    --prompt=\"Why does the Sun shine?\" \\\n",
    "    --max-tokens=20"
   ]
  }
 ],
 "metadata": {
  "kernelspec": {
   "display_name": "mikhalev2",
   "language": "python",
   "name": "python3"
  },
  "language_info": {
   "codemirror_mode": {
    "name": "ipython",
    "version": 3
   },
   "file_extension": ".py",
   "mimetype": "text/x-python",
   "name": "python",
   "nbconvert_exporter": "python",
   "pygments_lexer": "ipython3",
   "version": "3.12.11"
  }
 },
 "nbformat": 4,
 "nbformat_minor": 5
}
